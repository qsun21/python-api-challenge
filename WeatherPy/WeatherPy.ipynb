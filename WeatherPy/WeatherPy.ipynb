{
 "cells": [
  {
   "cell_type": "markdown",
   "metadata": {},
   "source": [
    "# WeatherPy\n",
    "----\n",
    "\n",
    "#### Note\n",
    "* Instructions have been included for each segment. You do not have to follow them exactly, but they are included to help you think through the steps."
   ]
  },
  {
   "cell_type": "code",
   "execution_count": 59,
   "metadata": {
    "scrolled": false
   },
   "outputs": [],
   "source": [
    "# Dependencies and Setup\n",
    "import matplotlib.pyplot as plt\n",
    "import pandas as pd\n",
    "import numpy as np\n",
    "import requests\n",
    "import time\n",
    "from scipy.stats import linregress\n",
    "import sys\n",
    "sys.path.append(\"../\")\n",
    "\n",
    "# Import API key\n",
    "from api_keys import weather_api_key\n",
    "\n",
    "# Incorporated citipy to determine city based on latitude and longitude\n",
    "from citipy import citipy\n",
    "\n",
    "# Output File (CSV)\n",
    "output_data_file = \"output_data/cities.csv\"\n",
    "\n",
    "# Range of latitudes and longitudes\n",
    "lat_range = (-90, 90)\n",
    "lng_range = (-180, 180)"
   ]
  },
  {
   "cell_type": "markdown",
   "metadata": {},
   "source": [
    "## Generate Cities List"
   ]
  },
  {
   "cell_type": "code",
   "execution_count": 60,
   "metadata": {},
   "outputs": [
    {
     "data": {
      "text/plain": [
       "603"
      ]
     },
     "execution_count": 60,
     "metadata": {},
     "output_type": "execute_result"
    }
   ],
   "source": [
    "# List for holding lat_lngs and cities\n",
    "lat_lngs = []\n",
    "cities = []\n",
    "\n",
    "# Create a set of random lat and lng combinations\n",
    "lats = np.random.uniform(lat_range[0], lat_range[1], size=1500)\n",
    "lngs = np.random.uniform(lng_range[0], lng_range[1], size=1500)\n",
    "lat_lngs = zip(lats, lngs)\n",
    "\n",
    "# Identify nearest city for each lat, lng combination\n",
    "for lat_lng in lat_lngs:\n",
    "    city = citipy.nearest_city(lat_lng[0], lat_lng[1]).city_name\n",
    "    \n",
    "    # If the city is unique, then add it to a our cities list\n",
    "    if city not in cities:\n",
    "        cities.append(city)\n",
    "\n",
    "# Print the city count to confirm sufficient count\n",
    "len(cities)"
   ]
  },
  {
   "cell_type": "markdown",
   "metadata": {},
   "source": [
    "### Perform API Calls\n",
    "* Perform a weather check on each city using a series of successive API calls.\n",
    "* Include a print log of each city as it'sbeing processed (with the city number and city name).\n"
   ]
  },
  {
   "cell_type": "code",
   "execution_count": 61,
   "metadata": {
    "scrolled": true
   },
   "outputs": [
    {
     "name": "stdout",
     "output_type": "stream",
     "text": [
      "Beginning Data Retrieval\n",
      "-------------------------\n",
      "af3b614283e3aa84cf172d6d0ea5f73a\n",
      "Processing Record 0 | albany\n",
      "Processing Record 1 | victor harbor\n",
      "Processing Record 2 | cape town\n",
      "Processing Record 3 | takayama\n",
      "Processing Record 4 | morant bay\n",
      "Processing Record 5 | taolanaro\n",
      "Error processing city 5 taolanaro...\n",
      "Processing Record 5 | okhotsk\n",
      "Processing Record 6 | mataura\n",
      "Processing Record 7 | rikitea\n",
      "Processing Record 8 | rio de janeiro\n",
      "Processing Record 9 | hilo\n",
      "Processing Record 10 | illoqqortoormiut\n",
      "Error processing city 10 illoqqortoormiut...\n",
      "Processing Record 10 | ligatne\n",
      "Processing Record 11 | barrow\n",
      "Processing Record 12 | punta arenas\n",
      "Processing Record 13 | cabedelo\n",
      "Processing Record 14 | belushya guba\n",
      "Error processing city 14 belushya guba...\n",
      "Processing Record 14 | rio grande\n",
      "Processing Record 15 | yumen\n",
      "Processing Record 16 | vaini\n",
      "Processing Record 17 | ushuaia\n",
      "Processing Record 18 | aklavik\n",
      "Processing Record 19 | geraldton\n",
      "Processing Record 20 | narsaq\n",
      "Processing Record 21 | bethel\n",
      "Processing Record 22 | axim\n",
      "Processing Record 23 | ponta do sol\n",
      "Processing Record 24 | ivdel\n",
      "Processing Record 25 | isabela\n",
      "Processing Record 26 | kotma\n",
      "Processing Record 27 | saint-georges\n",
      "Processing Record 28 | saint-augustin\n",
      "Processing Record 29 | airai\n",
      "Processing Record 30 | eydhafushi\n",
      "Processing Record 31 | hermanus\n",
      "Processing Record 32 | tarakan\n",
      "Processing Record 33 | norman wells\n",
      "Processing Record 34 | tasiilaq\n",
      "Processing Record 35 | busselton\n",
      "Processing Record 36 | comodoro rivadavia\n",
      "Processing Record 37 | saint-pierre\n",
      "Processing Record 38 | xudat\n",
      "Processing Record 39 | derzhavinsk\n",
      "Processing Record 40 | wangaratta\n",
      "Processing Record 41 | khatanga\n",
      "Processing Record 42 | bredasdorp\n",
      "Processing Record 43 | cabo san lucas\n",
      "Processing Record 44 | kodiak\n",
      "Processing Record 45 | freeport\n",
      "Processing Record 46 | srandakan\n",
      "Processing Record 47 | ewa beach\n",
      "Processing Record 48 | port elizabeth\n",
      "Processing Record 49 | acheng\n",
      "Processing Record 50 | bairiki\n",
      "Processing Record 51 | nantucket\n",
      "Processing Record 52 | wiarton\n",
      "Processing Record 53 | iqaluit\n",
      "Processing Record 54 | malwan\n",
      "Error processing city 54 malwan...\n",
      "Processing Record 54 | dakar\n",
      "Processing Record 55 | vanimo\n",
      "Processing Record 56 | east london\n",
      "Processing Record 57 | lata\n",
      "Processing Record 58 | pitrufquen\n",
      "Processing Record 59 | xam nua\n",
      "Processing Record 60 | nouadhibou\n",
      "Processing Record 61 | hobart\n",
      "Processing Record 62 | avarua\n",
      "Processing Record 63 | adrar\n",
      "Processing Record 64 | jennings\n",
      "Processing Record 65 | bluff\n",
      "Processing Record 66 | attawapiskat\n",
      "Error processing city 66 attawapiskat...\n",
      "Processing Record 66 | alice springs\n",
      "Processing Record 67 | amderma\n",
      "Error processing city 67 amderma...\n",
      "Processing Record 67 | isangel\n",
      "Processing Record 68 | geneva\n",
      "Processing Record 69 | faya\n",
      "Processing Record 70 | ponta delgada\n",
      "Processing Record 71 | arraial do cabo\n",
      "Processing Record 72 | saint george\n",
      "Processing Record 73 | palabuhanratu\n",
      "Error processing city 73 palabuhanratu...\n",
      "Processing Record 73 | arlit\n",
      "Processing Record 74 | bubaque\n",
      "Processing Record 75 | natchez\n",
      "Processing Record 76 | saleaula\n",
      "Error processing city 76 saleaula...\n",
      "Processing Record 76 | umm kaddadah\n",
      "Processing Record 77 | kapaa\n",
      "Processing Record 78 | katsiveli\n",
      "Error processing city 78 katsiveli...\n",
      "Processing Record 78 | atuona\n",
      "Processing Record 79 | tuktoyaktuk\n",
      "Processing Record 80 | sechura\n",
      "Processing Record 81 | tommot\n",
      "Processing Record 82 | savannah bight\n",
      "Processing Record 83 | mount isa\n",
      "Processing Record 84 | yellowknife\n",
      "Processing Record 85 | tessalit\n",
      "Processing Record 86 | rapid valley\n",
      "Processing Record 87 | camacha\n",
      "Processing Record 88 | mar del plata\n",
      "Processing Record 89 | gayny\n",
      "Processing Record 90 | luderitz\n",
      "Processing Record 91 | cidreira\n",
      "Processing Record 92 | broome\n",
      "Processing Record 93 | impfondo\n",
      "Processing Record 94 | marawi\n",
      "Processing Record 95 | acacoyagua\n",
      "Processing Record 96 | port hedland\n",
      "Processing Record 97 | worland\n",
      "Processing Record 98 | souillac\n",
      "Processing Record 99 | ahipara\n",
      "Processing Record 100 | jamestown\n",
      "Processing Record 101 | butaritari\n",
      "Processing Record 102 | kot putli\n",
      "Error processing city 102 kot putli...\n",
      "Processing Record 102 | ayan\n",
      "Processing Record 103 | hithadhoo\n",
      "Processing Record 104 | hobyo\n",
      "Processing Record 105 | matane\n",
      "Processing Record 106 | kavaratti\n",
      "Processing Record 107 | talnakh\n",
      "Processing Record 108 | tiksi\n",
      "Processing Record 109 | ust-koksa\n",
      "Processing Record 110 | vaitupu\n",
      "Error processing city 110 vaitupu...\n",
      "Processing Record 110 | kununurra\n",
      "Processing Record 111 | lebu\n",
      "Processing Record 112 | doha\n",
      "Processing Record 113 | hoquiam\n",
      "Processing Record 114 | severnyy-kospashskiy\n",
      "Processing Record 115 | zhangzhou\n",
      "Processing Record 116 | kollumerland\n",
      "Error processing city 116 kollumerland...\n",
      "Processing Record 116 | hervey bay\n",
      "Processing Record 117 | port lincoln\n",
      "Processing Record 118 | alotau\n",
      "Error processing city 118 alotau...\n",
      "Processing Record 118 | akyab\n",
      "Processing Record 119 | biak\n",
      "Processing Record 120 | zheleznodorozhnyy\n",
      "Processing Record 121 | bengkulu\n",
      "Processing Record 122 | tura\n",
      "Processing Record 123 | saldanha\n",
      "Processing Record 124 | kemijarvi\n",
      "Processing Record 125 | matagami\n",
      "Processing Record 126 | lorengau\n",
      "Processing Record 127 | acajutla\n",
      "Processing Record 128 | aksarka\n",
      "Processing Record 129 | sobolevo\n",
      "Processing Record 130 | sarai\n",
      "Processing Record 131 | tsihombe\n",
      "Error processing city 131 tsihombe...\n",
      "Processing Record 131 | cukai\n",
      "Processing Record 132 | meulaboh\n",
      "Processing Record 133 | lavrentiya\n",
      "Processing Record 134 | lundamo\n",
      "Processing Record 135 | pevek\n",
      "Processing Record 136 | longyearbyen\n",
      "Processing Record 137 | chifeng\n",
      "Processing Record 138 | san juan\n",
      "Processing Record 139 | epe\n",
      "Processing Record 140 | khor\n",
      "Processing Record 141 | lishu\n",
      "Processing Record 142 | dikson\n",
      "Processing Record 143 | qaanaaq\n",
      "Processing Record 144 | port macquarie\n",
      "Processing Record 145 | sungairaya\n",
      "Processing Record 146 | corner brook\n",
      "Processing Record 147 | villiers\n",
      "Processing Record 148 | pisco\n",
      "Processing Record 149 | gamba\n",
      "Processing Record 150 | husavik\n",
      "Processing Record 151 | millinocket\n",
      "Processing Record 152 | shieli\n",
      "Processing Record 153 | nikolskoye\n",
      "Processing Record 154 | olafsvik\n",
      "Processing Record 155 | sinnamary\n",
      "Processing Record 156 | kutum\n",
      "Processing Record 157 | port alfred\n",
      "Processing Record 158 | gonaives\n",
      "Processing Record 159 | ribeira grande\n",
      "Processing Record 160 | ereymentau\n",
      "Processing Record 161 | sentyabrskiy\n",
      "Error processing city 161 sentyabrskiy...\n",
      "Processing Record 161 | gandu\n",
      "Processing Record 162 | bintulu\n",
      "Processing Record 163 | mungaa\n",
      "Processing Record 164 | russellville\n",
      "Processing Record 165 | mount gambier\n",
      "Processing Record 166 | mandsaur\n",
      "Processing Record 167 | sogdiondon\n",
      "Error processing city 167 sogdiondon...\n",
      "Processing Record 167 | houston\n",
      "Processing Record 168 | millington\n",
      "Processing Record 169 | castro\n",
      "Processing Record 170 | zyryanka\n",
      "Processing Record 171 | bambous virieux\n",
      "Processing Record 172 | yar-sale\n",
      "Processing Record 173 | victoria\n",
      "Processing Record 174 | samusu\n",
      "Error processing city 174 samusu...\n",
      "Processing Record 174 | anloga\n",
      "Processing Record 175 | kisangani\n",
      "Processing Record 176 | avinurme\n",
      "Processing Record 177 | severo-kurilsk\n",
      "Processing Record 178 | saskylakh\n",
      "Processing Record 179 | honningsvag\n",
      "Processing Record 180 | falmouth\n",
      "Processing Record 181 | faanui\n",
      "Processing Record 182 | mitsamiouli\n",
      "Processing Record 183 | naze\n",
      "Processing Record 184 | requena\n",
      "Processing Record 185 | floro\n",
      "Processing Record 186 | solovetskiy\n",
      "Error processing city 186 solovetskiy...\n",
      "Processing Record 186 | perth\n",
      "Processing Record 187 | zhezkazgan\n",
      "Processing Record 188 | bintawan\n",
      "Processing Record 189 | margate\n",
      "Processing Record 190 | yaan\n",
      "Processing Record 191 | beringovskiy\n",
      "Processing Record 192 | halifax\n",
      "Processing Record 193 | ketchikan\n",
      "Processing Record 194 | antofagasta\n",
      "Processing Record 195 | lagos\n",
      "Processing Record 196 | irece\n",
      "Processing Record 197 | udachnyy\n",
      "Processing Record 198 | kinablangan\n",
      "Processing Record 199 | murdochville\n",
      "Processing Record 200 | byron bay\n",
      "Processing Record 201 | broken hill\n",
      "Processing Record 202 | hambantota\n",
      "Processing Record 203 | new norfolk\n",
      "Processing Record 204 | kruisfontein\n",
      "Processing Record 205 | casa nova\n",
      "Processing Record 206 | raudeberg\n",
      "Processing Record 207 | halalo\n",
      "Error processing city 207 halalo...\n",
      "Processing Record 207 | kalispell\n"
     ]
    },
    {
     "name": "stdout",
     "output_type": "stream",
     "text": [
      "Processing Record 208 | grand-bourg\n",
      "Processing Record 209 | mingyue\n",
      "Processing Record 210 | avera\n",
      "Processing Record 211 | saint-philippe\n",
      "Processing Record 212 | koumac\n",
      "Processing Record 213 | alofi\n",
      "Processing Record 214 | sitka\n",
      "Processing Record 215 | general pico\n",
      "Processing Record 216 | olavarria\n",
      "Processing Record 217 | high rock\n",
      "Processing Record 218 | lasa\n",
      "Processing Record 219 | barentsburg\n",
      "Error processing city 219 barentsburg...\n",
      "Processing Record 219 | quang ngai\n",
      "Processing Record 220 | palmas\n",
      "Processing Record 221 | kudahuvadhoo\n",
      "Processing Record 222 | satitoa\n",
      "Error processing city 222 satitoa...\n",
      "Processing Record 222 | ornskoldsvik\n",
      "Processing Record 223 | puerto ayora\n",
      "Processing Record 224 | formoso do araguaia\n",
      "Error processing city 224 formoso do araguaia...\n",
      "Processing Record 224 | coquimbo\n",
      "Processing Record 225 | kushmurun\n",
      "Processing Record 226 | anadyr\n",
      "Processing Record 227 | mahebourg\n",
      "Processing Record 228 | the pas\n",
      "Processing Record 229 | katsuura\n",
      "Processing Record 230 | poum\n",
      "Processing Record 231 | carnarvon\n",
      "Processing Record 232 | dunedin\n",
      "Processing Record 233 | saqqez\n",
      "Processing Record 234 | kirakira\n",
      "Processing Record 235 | chuy\n",
      "Processing Record 236 | nanortalik\n",
      "Processing Record 237 | torbay\n",
      "Processing Record 238 | charlestown\n",
      "Processing Record 239 | blackfoot\n",
      "Processing Record 240 | cherskiy\n",
      "Processing Record 241 | zhuhai\n",
      "Processing Record 242 | tereze\n",
      "Processing Record 243 | tutoia\n",
      "Processing Record 244 | bati\n",
      "Processing Record 245 | angicos\n",
      "Processing Record 246 | thompson\n",
      "Processing Record 247 | constitucion\n",
      "Processing Record 248 | mrirt\n",
      "Error processing city 248 mrirt...\n",
      "Processing Record 248 | kharp\n",
      "Processing Record 249 | port hardy\n",
      "Processing Record 250 | zaysan\n",
      "Processing Record 251 | guaraniacu\n",
      "Processing Record 252 | finschhafen\n",
      "Processing Record 253 | taoudenni\n",
      "Processing Record 254 | upernavik\n",
      "Processing Record 255 | sangar\n",
      "Processing Record 256 | turukhansk\n",
      "Processing Record 257 | tilichiki\n",
      "Processing Record 258 | la ronge\n",
      "Processing Record 259 | catuday\n",
      "Processing Record 260 | ostrovnoy\n",
      "Processing Record 261 | olecko\n",
      "Processing Record 262 | hanzhong\n",
      "Processing Record 263 | grand river south east\n",
      "Error processing city 263 grand river south east...\n",
      "Processing Record 263 | vung tau\n",
      "Processing Record 264 | ajaccio\n",
      "Processing Record 265 | mokhsogollokh\n",
      "Processing Record 266 | olinda\n",
      "Processing Record 267 | maralal\n",
      "Processing Record 268 | zilair\n",
      "Processing Record 269 | zlatoustovsk\n",
      "Error processing city 269 zlatoustovsk...\n",
      "Processing Record 269 | kodinsk\n",
      "Processing Record 270 | kupang\n",
      "Processing Record 271 | wageningen\n",
      "Processing Record 272 | paramonga\n",
      "Processing Record 273 | varkaus\n",
      "Processing Record 274 | kasamwa\n",
      "Processing Record 275 | half moon bay\n",
      "Processing Record 276 | lagoa\n",
      "Processing Record 277 | altay\n",
      "Processing Record 278 | lolua\n",
      "Error processing city 278 lolua...\n",
      "Processing Record 278 | inirida\n",
      "Processing Record 279 | veraval\n",
      "Processing Record 280 | nagato\n",
      "Processing Record 281 | qingdao\n",
      "Processing Record 282 | bilma\n",
      "Processing Record 283 | belaya gora\n",
      "Processing Record 284 | lambarene\n",
      "Processing Record 285 | gat\n",
      "Processing Record 286 | livani\n",
      "Processing Record 287 | havre-saint-pierre\n",
      "Processing Record 288 | imuris\n",
      "Processing Record 289 | san quintin\n",
      "Processing Record 290 | havoysund\n",
      "Processing Record 291 | kavieng\n",
      "Processing Record 292 | akdepe\n",
      "Processing Record 293 | vila velha\n",
      "Processing Record 294 | codrington\n",
      "Processing Record 295 | zhigansk\n",
      "Processing Record 296 | artyom\n",
      "Processing Record 297 | hoi an\n",
      "Processing Record 298 | sayat\n",
      "Processing Record 299 | bar harbor\n",
      "Processing Record 300 | vila franca do campo\n",
      "Processing Record 301 | juneau\n",
      "Processing Record 302 | sept-iles\n",
      "Processing Record 303 | yichang\n",
      "Processing Record 304 | siloam springs\n",
      "Processing Record 305 | san luis\n",
      "Processing Record 306 | guerrero negro\n",
      "Processing Record 307 | ulladulla\n",
      "Processing Record 308 | sao filipe\n",
      "Processing Record 309 | la asuncion\n",
      "Processing Record 310 | bhag\n",
      "Processing Record 311 | longonjo\n",
      "Processing Record 312 | tombouctou\n",
      "Processing Record 313 | tabuk\n",
      "Processing Record 314 | tayoltita\n",
      "Processing Record 315 | kushima\n",
      "Processing Record 316 | vao\n",
      "Processing Record 317 | ouallam\n",
      "Processing Record 318 | kaitangata\n",
      "Processing Record 319 | trairi\n",
      "Processing Record 320 | tumannyy\n",
      "Error processing city 320 tumannyy...\n",
      "Processing Record 320 | shahr-e kord\n",
      "Processing Record 321 | were ilu\n",
      "Processing Record 322 | fort frances\n",
      "Processing Record 323 | camopi\n",
      "Processing Record 324 | safwah\n",
      "Error processing city 324 safwah...\n",
      "Processing Record 324 | provideniya\n",
      "Processing Record 325 | jadu\n",
      "Processing Record 326 | kamenskoye\n",
      "Error processing city 326 kamenskoye...\n",
      "Processing Record 326 | cap malheureux\n",
      "Processing Record 327 | hasaki\n",
      "Processing Record 328 | sunrise manor\n",
      "Processing Record 329 | barentu\n",
      "Processing Record 330 | batemans bay\n",
      "Processing Record 331 | farafangana\n",
      "Processing Record 332 | saint-francois\n",
      "Processing Record 333 | brae\n",
      "Processing Record 334 | tongsa\n",
      "Error processing city 334 tongsa...\n",
      "Processing Record 334 | qasigiannguit\n",
      "Processing Record 335 | altona\n",
      "Processing Record 336 | nizhneyansk\n",
      "Error processing city 336 nizhneyansk...\n",
      "Processing Record 336 | hamilton\n",
      "Processing Record 337 | novo aripuana\n",
      "Processing Record 338 | jacmel\n",
      "Processing Record 339 | gamboma\n",
      "Processing Record 340 | shache\n",
      "Processing Record 341 | georgetown\n",
      "Processing Record 342 | balkanabat\n",
      "Processing Record 343 | bambanglipuro\n",
      "Processing Record 344 | bodmin\n",
      "Processing Record 345 | westport\n",
      "Processing Record 346 | touros\n",
      "Processing Record 347 | atambua\n",
      "Processing Record 348 | shimoda\n",
      "Processing Record 349 | tonekabon\n",
      "Processing Record 350 | basco\n",
      "Processing Record 351 | belmonte\n",
      "Processing Record 352 | huangpi\n",
      "Processing Record 353 | askino\n",
      "Processing Record 354 | caramay\n",
      "Processing Record 355 | awbari\n",
      "Processing Record 356 | hofn\n",
      "Processing Record 357 | urubamba\n",
      "Processing Record 358 | capreol\n",
      "Processing Record 359 | camalu\n",
      "Processing Record 360 | santa fe do sul\n",
      "Processing Record 361 | domoni\n",
      "Processing Record 362 | asyut\n",
      "Processing Record 363 | davila\n",
      "Processing Record 364 | esperance\n",
      "Processing Record 365 | kilcullen\n",
      "Processing Record 366 | moshny\n",
      "Processing Record 367 | uzhur\n",
      "Processing Record 368 | laguna\n",
      "Processing Record 369 | nome\n",
      "Processing Record 370 | lompoc\n",
      "Processing Record 371 | cap-aux-meules\n",
      "Processing Record 372 | mangaldai\n",
      "Processing Record 373 | megion\n",
      "Processing Record 374 | porto santo\n",
      "Processing Record 375 | at-bashi\n",
      "Processing Record 376 | sinyavskoye\n",
      "Processing Record 377 | aparecida do taboado\n",
      "Processing Record 378 | la paz\n",
      "Processing Record 379 | sarankhola\n",
      "Processing Record 380 | mogadishu\n",
      "Processing Record 381 | zabid\n",
      "Processing Record 382 | cayenne\n",
      "Processing Record 383 | sagua la grande\n",
      "Processing Record 384 | jacqueville\n",
      "Processing Record 385 | padang\n",
      "Processing Record 386 | sorong\n",
      "Processing Record 387 | yebaishou\n",
      "Processing Record 388 | chokurdakh\n",
      "Processing Record 389 | novopetrovskoye\n",
      "Processing Record 390 | siilinjarvi\n",
      "Processing Record 391 | kalulushi\n",
      "Processing Record 392 | inhambane\n",
      "Processing Record 393 | asfi\n",
      "Processing Record 394 | albion\n",
      "Processing Record 395 | hof\n",
      "Processing Record 396 | acarau\n",
      "Processing Record 397 | erode\n",
      "Processing Record 398 | atar\n",
      "Processing Record 399 | taywarah\n",
      "Processing Record 400 | chornobay\n",
      "Processing Record 401 | krasnyy oktyabr\n",
      "Processing Record 402 | bandarbeyla\n",
      "Processing Record 403 | grootfontein\n",
      "Processing Record 404 | caravelas\n",
      "Processing Record 405 | ndende\n",
      "Processing Record 406 | mecca\n",
      "Processing Record 407 | bam\n",
      "Processing Record 408 | store heddinge\n",
      "Processing Record 409 | dombasle-sur-meurthe\n",
      "Processing Record 410 | awjilah\n",
      "Processing Record 411 | ossora\n",
      "Processing Record 412 | nyrob\n",
      "Processing Record 413 | tirano\n",
      "Processing Record 414 | bonfim\n",
      "Processing Record 415 | lonar\n",
      "Processing Record 416 | yulara\n",
      "Processing Record 417 | kuybysheve\n",
      "Processing Record 418 | altamont\n",
      "Processing Record 419 | tuatapere\n",
      "Processing Record 420 | xichang\n",
      "Processing Record 421 | kieta\n",
      "Processing Record 422 | oktyabrskiy\n",
      "Processing Record 423 | viedma\n",
      "Processing Record 424 | mbanza-ngungu\n",
      "Processing Record 425 | plettenberg bay\n",
      "Processing Record 426 | ostersund\n",
      "Processing Record 427 | klaksvik\n"
     ]
    },
    {
     "name": "stdout",
     "output_type": "stream",
     "text": [
      "Processing Record 428 | canavieiras\n",
      "Processing Record 429 | umm durman\n",
      "Error processing city 429 umm durman...\n",
      "Processing Record 429 | aykhal\n",
      "Processing Record 430 | maragogi\n",
      "Processing Record 431 | ngunguru\n",
      "Processing Record 432 | edd\n",
      "Processing Record 433 | valparaiso\n",
      "Processing Record 434 | kahului\n",
      "Processing Record 435 | fairbanks\n",
      "Processing Record 436 | viransehir\n",
      "Processing Record 437 | marienburg\n",
      "Processing Record 438 | karamea\n",
      "Error processing city 438 karamea...\n",
      "Processing Record 438 | oranjestad\n",
      "Processing Record 439 | grand gaube\n",
      "Processing Record 440 | progreso\n",
      "Processing Record 441 | victoria point\n",
      "Processing Record 442 | loughrea\n",
      "Processing Record 443 | magadan\n",
      "Processing Record 444 | siocon\n",
      "Processing Record 445 | monster\n",
      "Processing Record 446 | winneba\n",
      "Processing Record 447 | zalari\n",
      "Processing Record 448 | ous\n",
      "Processing Record 449 | poltavka\n",
      "Processing Record 450 | manokwari\n",
      "Processing Record 451 | mehamn\n",
      "Processing Record 452 | rocha\n",
      "Processing Record 453 | klyuchi\n",
      "Processing Record 454 | port blair\n",
      "Processing Record 455 | merauke\n",
      "Processing Record 456 | nizwa\n",
      "Processing Record 457 | chicama\n",
      "Processing Record 458 | fortuna\n",
      "Processing Record 459 | salalah\n",
      "Processing Record 460 | marcona\n",
      "Error processing city 460 marcona...\n",
      "Processing Record 460 | luena\n",
      "Processing Record 461 | kerema\n",
      "Processing Record 462 | puerto del rosario\n",
      "Processing Record 463 | mys shmidta\n",
      "Error processing city 463 mys shmidta...\n",
      "Processing Record 463 | chiang klang\n",
      "Processing Record 464 | ciudad bolivar\n",
      "Processing Record 465 | paradwip\n",
      "Error processing city 465 paradwip...\n",
      "Processing Record 465 | coihaique\n",
      "Processing Record 466 | petropavlovsk-kamchatskiy\n",
      "Processing Record 467 | ust-ordynskiy\n",
      "Processing Record 468 | severnoye\n",
      "Processing Record 469 | sampit\n",
      "Processing Record 470 | vavozh\n",
      "Processing Record 471 | palmer\n",
      "Processing Record 472 | penzance\n",
      "Processing Record 473 | san rafael\n",
      "Processing Record 474 | nelson bay\n",
      "Processing Record 475 | nishihara\n",
      "Processing Record 476 | krasnoselkup\n",
      "Processing Record 477 | katobu\n",
      "Processing Record 478 | safaga\n",
      "Processing Record 479 | winnemucca\n",
      "Processing Record 480 | vostok\n",
      "Processing Record 481 | saverne\n",
      "Processing Record 482 | severo-yeniseyskiy\n",
      "Processing Record 483 | middle island\n",
      "Processing Record 484 | cockburn town\n",
      "Processing Record 485 | miri\n",
      "Processing Record 486 | mentok\n",
      "Error processing city 486 mentok...\n",
      "Processing Record 486 | simbahan\n",
      "Processing Record 487 | deputatskiy\n",
      "Processing Record 488 | teahupoo\n",
      "Processing Record 489 | rawson\n",
      "Processing Record 490 | rock sound\n",
      "Processing Record 491 | rafai\n",
      "Processing Record 492 | namibe\n",
      "Processing Record 493 | helong\n",
      "Processing Record 494 | pangnirtung\n",
      "Processing Record 495 | panjab\n",
      "Processing Record 496 | san ignacio\n",
      "Processing Record 497 | te anau\n",
      "Processing Record 498 | balabac\n",
      "Processing Record 499 | ndioum\n",
      "Processing Record 500 | trat\n",
      "Processing Record 501 | bondo\n",
      "Processing Record 502 | vargashi\n",
      "Processing Record 503 | bilibino\n",
      "Processing Record 504 | punta alta\n",
      "Processing Record 505 | paamiut\n",
      "Processing Record 506 | biggar\n",
      "Processing Record 507 | chalmette\n",
      "Processing Record 508 | dukat\n",
      "Processing Record 509 | lingao\n",
      "Processing Record 510 | clyde river\n",
      "Processing Record 511 | gravdal\n",
      "Processing Record 512 | ixtapa\n",
      "Processing Record 513 | lakes entrance\n",
      "Processing Record 514 | wote\n",
      "Processing Record 515 | vestmannaeyjar\n",
      "Processing Record 516 | pacific grove\n",
      "Processing Record 517 | skjervoy\n",
      "Processing Record 518 | zambezi\n",
      "Processing Record 519 | tawkar\n",
      "Error processing city 519 tawkar...\n",
      "Processing Record 519 | walvis bay\n",
      "Processing Record 520 | itamarandiba\n",
      "Processing Record 521 | ancud\n",
      "Processing Record 522 | ilulissat\n",
      "Processing Record 523 | aran\n",
      "Processing Record 524 | pombia\n",
      "Processing Record 525 | peleduy\n",
      "Processing Record 526 | kaeo\n",
      "Processing Record 527 | ust-tsilma\n",
      "Processing Record 528 | leningradskiy\n",
      "Processing Record 529 | tomohon\n",
      "Processing Record 530 | kloulklubed\n",
      "Processing Record 531 | bagdarin\n",
      "Processing Record 532 | odweyne\n",
      "Processing Record 533 | verkhnevilyuysk\n",
      "Processing Record 534 | teloloapan\n",
      "Processing Record 535 | seoul\n",
      "Processing Record 536 | fukue\n",
      "Processing Record 537 | mingshui\n",
      "Processing Record 538 | taksimo\n",
      "Processing Record 539 | charters towers\n",
      "Processing Record 540 | orichi\n",
      "Processing Record 541 | warrington\n",
      "Processing Record 542 | guaymas\n",
      "Processing Record 543 | bijie\n",
      "Processing Record 544 | qinnan\n",
      "Processing Record 545 | innisfail\n",
      "Processing Record 546 | santa fe\n",
      "Processing Record 547 | bud\n",
      "Processing Record 548 | launceston\n",
      "Processing Record 549 | aldan\n",
      "Processing Record 550 | marianske lazne\n",
      "Processing Record 551 | dzilam gonzalez\n",
      "Processing Record 552 | itacarambi\n",
      "Processing Record 553 | labuhan\n",
      "Processing Record 554 | houma\n",
      "Processing Record 555 | namatanai\n",
      "Processing Record 556 | novi iskar\n",
      "Processing Record 557 | mana\n",
      "Processing Record 558 | jalu\n",
      "Processing Record 559 | gurgan\n",
      "Error processing city 559 gurgan...\n",
      "Processing Record 559 | granada\n",
      "Processing Record 560 | college\n",
      "Processing Record 561 | cleethorpes\n",
      "Processing Record 562 | opuwo\n",
      "Processing Record 563 | carolina\n"
     ]
    },
    {
     "data": {
      "text/html": [
       "<div>\n",
       "<style scoped>\n",
       "    .dataframe tbody tr th:only-of-type {\n",
       "        vertical-align: middle;\n",
       "    }\n",
       "\n",
       "    .dataframe tbody tr th {\n",
       "        vertical-align: top;\n",
       "    }\n",
       "\n",
       "    .dataframe thead th {\n",
       "        text-align: right;\n",
       "    }\n",
       "</style>\n",
       "<table border=\"1\" class=\"dataframe\">\n",
       "  <thead>\n",
       "    <tr style=\"text-align: right;\">\n",
       "      <th></th>\n",
       "      <th>City</th>\n",
       "      <th>Cloudiness</th>\n",
       "      <th>Country</th>\n",
       "      <th>Date</th>\n",
       "      <th>Humidity</th>\n",
       "      <th>Lat</th>\n",
       "      <th>Lng</th>\n",
       "      <th>Max Temp</th>\n",
       "      <th>Wind Speed</th>\n",
       "    </tr>\n",
       "  </thead>\n",
       "  <tbody>\n",
       "    <tr>\n",
       "      <th>0</th>\n",
       "      <td>albany</td>\n",
       "      <td>100.0</td>\n",
       "      <td>US</td>\n",
       "      <td>1.622322e+09</td>\n",
       "      <td>72.0</td>\n",
       "      <td>42.6001</td>\n",
       "      <td>-73.9662</td>\n",
       "      <td>53.15</td>\n",
       "      <td>5.37</td>\n",
       "    </tr>\n",
       "    <tr>\n",
       "      <th>1</th>\n",
       "      <td>victor harbor</td>\n",
       "      <td>0.0</td>\n",
       "      <td>AU</td>\n",
       "      <td>1.622322e+09</td>\n",
       "      <td>70.0</td>\n",
       "      <td>-35.5667</td>\n",
       "      <td>138.6167</td>\n",
       "      <td>49.80</td>\n",
       "      <td>8.16</td>\n",
       "    </tr>\n",
       "    <tr>\n",
       "      <th>2</th>\n",
       "      <td>cape town</td>\n",
       "      <td>40.0</td>\n",
       "      <td>ZA</td>\n",
       "      <td>1.622321e+09</td>\n",
       "      <td>87.0</td>\n",
       "      <td>-33.9258</td>\n",
       "      <td>18.4232</td>\n",
       "      <td>58.08</td>\n",
       "      <td>0.07</td>\n",
       "    </tr>\n",
       "    <tr>\n",
       "      <th>3</th>\n",
       "      <td>takayama</td>\n",
       "      <td>70.0</td>\n",
       "      <td>JP</td>\n",
       "      <td>1.622321e+09</td>\n",
       "      <td>90.0</td>\n",
       "      <td>36.1333</td>\n",
       "      <td>137.2500</td>\n",
       "      <td>52.03</td>\n",
       "      <td>1.57</td>\n",
       "    </tr>\n",
       "    <tr>\n",
       "      <th>4</th>\n",
       "      <td>morant bay</td>\n",
       "      <td>11.0</td>\n",
       "      <td>JM</td>\n",
       "      <td>1.622322e+09</td>\n",
       "      <td>73.0</td>\n",
       "      <td>17.8815</td>\n",
       "      <td>-76.4093</td>\n",
       "      <td>85.62</td>\n",
       "      <td>8.84</td>\n",
       "    </tr>\n",
       "  </tbody>\n",
       "</table>\n",
       "</div>"
      ],
      "text/plain": [
       "            City  Cloudiness Country          Date  Humidity      Lat  \\\n",
       "0         albany       100.0      US  1.622322e+09      72.0  42.6001   \n",
       "1  victor harbor         0.0      AU  1.622322e+09      70.0 -35.5667   \n",
       "2      cape town        40.0      ZA  1.622321e+09      87.0 -33.9258   \n",
       "3       takayama        70.0      JP  1.622321e+09      90.0  36.1333   \n",
       "4     morant bay        11.0      JM  1.622322e+09      73.0  17.8815   \n",
       "\n",
       "        Lng  Max Temp  Wind Speed  \n",
       "0  -73.9662     53.15        5.37  \n",
       "1  138.6167     49.80        8.16  \n",
       "2   18.4232     58.08        0.07  \n",
       "3  137.2500     52.03        1.57  \n",
       "4  -76.4093     85.62        8.84  "
      ]
     },
     "execution_count": 61,
     "metadata": {},
     "output_type": "execute_result"
    }
   ],
   "source": [
    "print(\"Beginning Data Retrieval\")\n",
    "print(\"-------------------------\")\n",
    "base_url = \"http://api.openweathermap.org/data/2.5/weather\"\n",
    "query_params = {}\n",
    "query_params['appid'] = weather_api_key\n",
    "query_params['units'] = 'imperial'\n",
    "print(weather_api_key)\n",
    "i = 0\n",
    "cols = ['City', 'Lat', 'Lng', 'Max Temp', 'Humidity', 'Cloudiness', 'Wind Speed', 'Country', 'Date']\n",
    "df = pd.DataFrame()\n",
    "for city in cities:\n",
    "    try:\n",
    "        query_params['q'] = city\n",
    "        print(f\"Processing Record {i} | {city}\")\n",
    "        response = requests.get(base_url, params=query_params)\n",
    "        data = response.json()\n",
    "        res_list = []\n",
    "        res_list.append(city)\n",
    "        res_list.append(data['coord']['lat'])\n",
    "        res_list.append(data['coord']['lon'])\n",
    "        res_list.append(data['main']['temp_max'])\n",
    "        res_list.append(data['main']['humidity'])\n",
    "        res_list.append(data['clouds']['all'])\n",
    "        res_list.append(data['wind']['speed'])\n",
    "        res_list.append(data['sys']['country'])\n",
    "        res_list.append(data['dt'])\n",
    "        ser = pd.Series(res_list, index=cols)\n",
    "        df = df.append(ser, ignore_index=True)\n",
    "        i += 1\n",
    "    except Exception as e:\n",
    "        print(f\"Error processing city {i} {city}...\")\n",
    "\n",
    "df.head()"
   ]
  },
  {
   "cell_type": "markdown",
   "metadata": {},
   "source": [
    "### Convert Raw Data to DataFrame\n",
    "* Export the city data into a .csv.\n",
    "* Display the DataFrame"
   ]
  },
  {
   "cell_type": "code",
   "execution_count": 66,
   "metadata": {},
   "outputs": [],
   "source": [
    "df.to_csv('city_weather.csv', index=False)"
   ]
  },
  {
   "cell_type": "code",
   "execution_count": 67,
   "metadata": {},
   "outputs": [
    {
     "data": {
      "text/html": [
       "<div>\n",
       "<style scoped>\n",
       "    .dataframe tbody tr th:only-of-type {\n",
       "        vertical-align: middle;\n",
       "    }\n",
       "\n",
       "    .dataframe tbody tr th {\n",
       "        vertical-align: top;\n",
       "    }\n",
       "\n",
       "    .dataframe thead th {\n",
       "        text-align: right;\n",
       "    }\n",
       "</style>\n",
       "<table border=\"1\" class=\"dataframe\">\n",
       "  <thead>\n",
       "    <tr style=\"text-align: right;\">\n",
       "      <th></th>\n",
       "      <th>Cloudiness</th>\n",
       "      <th>Date</th>\n",
       "      <th>Humidity</th>\n",
       "      <th>Lat</th>\n",
       "      <th>Lng</th>\n",
       "      <th>Max Temp</th>\n",
       "      <th>Wind Speed</th>\n",
       "    </tr>\n",
       "  </thead>\n",
       "  <tbody>\n",
       "    <tr>\n",
       "      <th>count</th>\n",
       "      <td>564.000000</td>\n",
       "      <td>5.640000e+02</td>\n",
       "      <td>564.000000</td>\n",
       "      <td>564.000000</td>\n",
       "      <td>564.000000</td>\n",
       "      <td>564.000000</td>\n",
       "      <td>564.000000</td>\n",
       "    </tr>\n",
       "    <tr>\n",
       "      <th>mean</th>\n",
       "      <td>54.453901</td>\n",
       "      <td>1.622322e+09</td>\n",
       "      <td>70.010638</td>\n",
       "      <td>20.842793</td>\n",
       "      <td>23.314547</td>\n",
       "      <td>64.018812</td>\n",
       "      <td>7.961596</td>\n",
       "    </tr>\n",
       "    <tr>\n",
       "      <th>std</th>\n",
       "      <td>38.958734</td>\n",
       "      <td>8.757427e+01</td>\n",
       "      <td>22.037266</td>\n",
       "      <td>33.603027</td>\n",
       "      <td>89.861202</td>\n",
       "      <td>16.700461</td>\n",
       "      <td>5.479505</td>\n",
       "    </tr>\n",
       "    <tr>\n",
       "      <th>min</th>\n",
       "      <td>0.000000</td>\n",
       "      <td>1.622321e+09</td>\n",
       "      <td>6.000000</td>\n",
       "      <td>-54.800000</td>\n",
       "      <td>-175.200000</td>\n",
       "      <td>16.920000</td>\n",
       "      <td>0.000000</td>\n",
       "    </tr>\n",
       "    <tr>\n",
       "      <th>25%</th>\n",
       "      <td>12.750000</td>\n",
       "      <td>1.622322e+09</td>\n",
       "      <td>58.000000</td>\n",
       "      <td>-5.584075</td>\n",
       "      <td>-57.655225</td>\n",
       "      <td>51.770000</td>\n",
       "      <td>3.932500</td>\n",
       "    </tr>\n",
       "    <tr>\n",
       "      <th>50%</th>\n",
       "      <td>62.500000</td>\n",
       "      <td>1.622322e+09</td>\n",
       "      <td>77.000000</td>\n",
       "      <td>24.075000</td>\n",
       "      <td>25.120300</td>\n",
       "      <td>63.655000</td>\n",
       "      <td>6.590000</td>\n",
       "    </tr>\n",
       "    <tr>\n",
       "      <th>75%</th>\n",
       "      <td>95.000000</td>\n",
       "      <td>1.622322e+09</td>\n",
       "      <td>87.000000</td>\n",
       "      <td>50.127550</td>\n",
       "      <td>108.825000</td>\n",
       "      <td>78.570000</td>\n",
       "      <td>10.770000</td>\n",
       "    </tr>\n",
       "    <tr>\n",
       "      <th>max</th>\n",
       "      <td>100.000000</td>\n",
       "      <td>1.622322e+09</td>\n",
       "      <td>100.000000</td>\n",
       "      <td>78.218600</td>\n",
       "      <td>179.316700</td>\n",
       "      <td>102.700000</td>\n",
       "      <td>33.710000</td>\n",
       "    </tr>\n",
       "  </tbody>\n",
       "</table>\n",
       "</div>"
      ],
      "text/plain": [
       "       Cloudiness          Date    Humidity         Lat         Lng  \\\n",
       "count  564.000000  5.640000e+02  564.000000  564.000000  564.000000   \n",
       "mean    54.453901  1.622322e+09   70.010638   20.842793   23.314547   \n",
       "std     38.958734  8.757427e+01   22.037266   33.603027   89.861202   \n",
       "min      0.000000  1.622321e+09    6.000000  -54.800000 -175.200000   \n",
       "25%     12.750000  1.622322e+09   58.000000   -5.584075  -57.655225   \n",
       "50%     62.500000  1.622322e+09   77.000000   24.075000   25.120300   \n",
       "75%     95.000000  1.622322e+09   87.000000   50.127550  108.825000   \n",
       "max    100.000000  1.622322e+09  100.000000   78.218600  179.316700   \n",
       "\n",
       "         Max Temp  Wind Speed  \n",
       "count  564.000000  564.000000  \n",
       "mean    64.018812    7.961596  \n",
       "std     16.700461    5.479505  \n",
       "min     16.920000    0.000000  \n",
       "25%     51.770000    3.932500  \n",
       "50%     63.655000    6.590000  \n",
       "75%     78.570000   10.770000  \n",
       "max    102.700000   33.710000  "
      ]
     },
     "execution_count": 67,
     "metadata": {},
     "output_type": "execute_result"
    }
   ],
   "source": [
    "def create_summary(data_frame):\n",
    "    summary_df = pd.DataFrame()\n",
    "    summary_df = summary_df.append(data_frame.count(), ignore_index=True)\n",
    "    summary_df = summary_df.append(data_frame.mean(), ignore_index=True)\n",
    "    summary_df = summary_df.append(data_frame.std(), ignore_index=True)\n",
    "    summary_df = summary_df.append(data_frame.min(), ignore_index=True)\n",
    "    first_qrt = data_frame.quantile(0.25)\n",
    "    second_qrt  = data_frame.quantile(0.5)\n",
    "    third_qrt = data_frame.quantile(0.75)\n",
    "    summary_df = summary_df.append(first_qrt, ignore_index=True)\n",
    "    summary_df = summary_df.append(second_qrt, ignore_index=True)\n",
    "    summary_df = summary_df.append(third_qrt, ignore_index=True)\n",
    "    summary_df = summary_df.append(data_frame.max(), ignore_index=True)\n",
    "    del summary_df['City']\n",
    "    del summary_df['Country']\n",
    "    summary_df.index = ['count', 'mean', 'std', 'min', '25%', '50%', '75%', 'max']\n",
    "    return summary_df\n",
    "\n",
    "summary_data_frame = create_summary(df)\n",
    "summary_data_frame"
   ]
  },
  {
   "cell_type": "markdown",
   "metadata": {},
   "source": [
    "## Inspect the data and remove the cities where the humidity > 100%.\n",
    "----\n",
    "Skip this step if there are no cities that have humidity > 100%. "
   ]
  },
  {
   "cell_type": "code",
   "execution_count": 68,
   "metadata": {},
   "outputs": [
    {
     "data": {
      "text/html": [
       "<div>\n",
       "<style scoped>\n",
       "    .dataframe tbody tr th:only-of-type {\n",
       "        vertical-align: middle;\n",
       "    }\n",
       "\n",
       "    .dataframe tbody tr th {\n",
       "        vertical-align: top;\n",
       "    }\n",
       "\n",
       "    .dataframe thead th {\n",
       "        text-align: right;\n",
       "    }\n",
       "</style>\n",
       "<table border=\"1\" class=\"dataframe\">\n",
       "  <thead>\n",
       "    <tr style=\"text-align: right;\">\n",
       "      <th></th>\n",
       "      <th>Cloudiness</th>\n",
       "      <th>Date</th>\n",
       "      <th>Humidity</th>\n",
       "      <th>Lat</th>\n",
       "      <th>Lng</th>\n",
       "      <th>Max Temp</th>\n",
       "      <th>Wind Speed</th>\n",
       "    </tr>\n",
       "  </thead>\n",
       "  <tbody>\n",
       "    <tr>\n",
       "      <th>count</th>\n",
       "      <td>564.000000</td>\n",
       "      <td>5.640000e+02</td>\n",
       "      <td>564.000000</td>\n",
       "      <td>564.000000</td>\n",
       "      <td>564.000000</td>\n",
       "      <td>564.000000</td>\n",
       "      <td>564.000000</td>\n",
       "    </tr>\n",
       "    <tr>\n",
       "      <th>mean</th>\n",
       "      <td>54.453901</td>\n",
       "      <td>1.622322e+09</td>\n",
       "      <td>70.010638</td>\n",
       "      <td>20.842793</td>\n",
       "      <td>23.314547</td>\n",
       "      <td>64.018812</td>\n",
       "      <td>7.961596</td>\n",
       "    </tr>\n",
       "    <tr>\n",
       "      <th>std</th>\n",
       "      <td>38.958734</td>\n",
       "      <td>8.757427e+01</td>\n",
       "      <td>22.037266</td>\n",
       "      <td>33.603027</td>\n",
       "      <td>89.861202</td>\n",
       "      <td>16.700461</td>\n",
       "      <td>5.479505</td>\n",
       "    </tr>\n",
       "    <tr>\n",
       "      <th>min</th>\n",
       "      <td>0.000000</td>\n",
       "      <td>1.622321e+09</td>\n",
       "      <td>6.000000</td>\n",
       "      <td>-54.800000</td>\n",
       "      <td>-175.200000</td>\n",
       "      <td>16.920000</td>\n",
       "      <td>0.000000</td>\n",
       "    </tr>\n",
       "    <tr>\n",
       "      <th>25%</th>\n",
       "      <td>12.750000</td>\n",
       "      <td>1.622322e+09</td>\n",
       "      <td>58.000000</td>\n",
       "      <td>-5.584075</td>\n",
       "      <td>-57.655225</td>\n",
       "      <td>51.770000</td>\n",
       "      <td>3.932500</td>\n",
       "    </tr>\n",
       "    <tr>\n",
       "      <th>50%</th>\n",
       "      <td>62.500000</td>\n",
       "      <td>1.622322e+09</td>\n",
       "      <td>77.000000</td>\n",
       "      <td>24.075000</td>\n",
       "      <td>25.120300</td>\n",
       "      <td>63.655000</td>\n",
       "      <td>6.590000</td>\n",
       "    </tr>\n",
       "    <tr>\n",
       "      <th>75%</th>\n",
       "      <td>95.000000</td>\n",
       "      <td>1.622322e+09</td>\n",
       "      <td>87.000000</td>\n",
       "      <td>50.127550</td>\n",
       "      <td>108.825000</td>\n",
       "      <td>78.570000</td>\n",
       "      <td>10.770000</td>\n",
       "    </tr>\n",
       "    <tr>\n",
       "      <th>max</th>\n",
       "      <td>100.000000</td>\n",
       "      <td>1.622322e+09</td>\n",
       "      <td>100.000000</td>\n",
       "      <td>78.218600</td>\n",
       "      <td>179.316700</td>\n",
       "      <td>102.700000</td>\n",
       "      <td>33.710000</td>\n",
       "    </tr>\n",
       "  </tbody>\n",
       "</table>\n",
       "</div>"
      ],
      "text/plain": [
       "       Cloudiness          Date    Humidity         Lat         Lng  \\\n",
       "count  564.000000  5.640000e+02  564.000000  564.000000  564.000000   \n",
       "mean    54.453901  1.622322e+09   70.010638   20.842793   23.314547   \n",
       "std     38.958734  8.757427e+01   22.037266   33.603027   89.861202   \n",
       "min      0.000000  1.622321e+09    6.000000  -54.800000 -175.200000   \n",
       "25%     12.750000  1.622322e+09   58.000000   -5.584075  -57.655225   \n",
       "50%     62.500000  1.622322e+09   77.000000   24.075000   25.120300   \n",
       "75%     95.000000  1.622322e+09   87.000000   50.127550  108.825000   \n",
       "max    100.000000  1.622322e+09  100.000000   78.218600  179.316700   \n",
       "\n",
       "         Max Temp  Wind Speed  \n",
       "count  564.000000  564.000000  \n",
       "mean    64.018812    7.961596  \n",
       "std     16.700461    5.479505  \n",
       "min     16.920000    0.000000  \n",
       "25%     51.770000    3.932500  \n",
       "50%     63.655000    6.590000  \n",
       "75%     78.570000   10.770000  \n",
       "max    102.700000   33.710000  "
      ]
     },
     "execution_count": 68,
     "metadata": {},
     "output_type": "execute_result"
    }
   ],
   "source": [
    "df_humidity = df[df['Humidity'] <= 100]\n",
    "summary_data_frame = create_summary(df_humidity)\n",
    "summary_data_frame"
   ]
  },
  {
   "cell_type": "code",
   "execution_count": 69,
   "metadata": {},
   "outputs": [
    {
     "data": {
      "text/plain": [
       "array([], dtype=int64)"
      ]
     },
     "execution_count": 69,
     "metadata": {},
     "output_type": "execute_result"
    }
   ],
   "source": [
    "#  Get the indices of cities that have humidity over 100%.\n",
    "df_over_humidity = df[df['Humidity'] > 100]\n",
    "indices = df_over_humidity.index.values\n",
    "indices"
   ]
  },
  {
   "cell_type": "code",
   "execution_count": 70,
   "metadata": {},
   "outputs": [
    {
     "data": {
      "text/html": [
       "<div>\n",
       "<style scoped>\n",
       "    .dataframe tbody tr th:only-of-type {\n",
       "        vertical-align: middle;\n",
       "    }\n",
       "\n",
       "    .dataframe tbody tr th {\n",
       "        vertical-align: top;\n",
       "    }\n",
       "\n",
       "    .dataframe thead th {\n",
       "        text-align: right;\n",
       "    }\n",
       "</style>\n",
       "<table border=\"1\" class=\"dataframe\">\n",
       "  <thead>\n",
       "    <tr style=\"text-align: right;\">\n",
       "      <th></th>\n",
       "      <th>City</th>\n",
       "      <th>Cloudiness</th>\n",
       "      <th>Country</th>\n",
       "      <th>Date</th>\n",
       "      <th>Humidity</th>\n",
       "      <th>Lat</th>\n",
       "      <th>Lng</th>\n",
       "      <th>Max Temp</th>\n",
       "      <th>Wind Speed</th>\n",
       "    </tr>\n",
       "  </thead>\n",
       "  <tbody>\n",
       "    <tr>\n",
       "      <th>0</th>\n",
       "      <td>albany</td>\n",
       "      <td>100.0</td>\n",
       "      <td>US</td>\n",
       "      <td>1.622322e+09</td>\n",
       "      <td>72.0</td>\n",
       "      <td>42.6001</td>\n",
       "      <td>-73.9662</td>\n",
       "      <td>53.15</td>\n",
       "      <td>5.37</td>\n",
       "    </tr>\n",
       "    <tr>\n",
       "      <th>1</th>\n",
       "      <td>victor harbor</td>\n",
       "      <td>0.0</td>\n",
       "      <td>AU</td>\n",
       "      <td>1.622322e+09</td>\n",
       "      <td>70.0</td>\n",
       "      <td>-35.5667</td>\n",
       "      <td>138.6167</td>\n",
       "      <td>49.80</td>\n",
       "      <td>8.16</td>\n",
       "    </tr>\n",
       "    <tr>\n",
       "      <th>2</th>\n",
       "      <td>cape town</td>\n",
       "      <td>40.0</td>\n",
       "      <td>ZA</td>\n",
       "      <td>1.622321e+09</td>\n",
       "      <td>87.0</td>\n",
       "      <td>-33.9258</td>\n",
       "      <td>18.4232</td>\n",
       "      <td>58.08</td>\n",
       "      <td>0.07</td>\n",
       "    </tr>\n",
       "    <tr>\n",
       "      <th>3</th>\n",
       "      <td>takayama</td>\n",
       "      <td>70.0</td>\n",
       "      <td>JP</td>\n",
       "      <td>1.622321e+09</td>\n",
       "      <td>90.0</td>\n",
       "      <td>36.1333</td>\n",
       "      <td>137.2500</td>\n",
       "      <td>52.03</td>\n",
       "      <td>1.57</td>\n",
       "    </tr>\n",
       "    <tr>\n",
       "      <th>4</th>\n",
       "      <td>morant bay</td>\n",
       "      <td>11.0</td>\n",
       "      <td>JM</td>\n",
       "      <td>1.622322e+09</td>\n",
       "      <td>73.0</td>\n",
       "      <td>17.8815</td>\n",
       "      <td>-76.4093</td>\n",
       "      <td>85.62</td>\n",
       "      <td>8.84</td>\n",
       "    </tr>\n",
       "    <tr>\n",
       "      <th>...</th>\n",
       "      <td>...</td>\n",
       "      <td>...</td>\n",
       "      <td>...</td>\n",
       "      <td>...</td>\n",
       "      <td>...</td>\n",
       "      <td>...</td>\n",
       "      <td>...</td>\n",
       "      <td>...</td>\n",
       "      <td>...</td>\n",
       "    </tr>\n",
       "    <tr>\n",
       "      <th>559</th>\n",
       "      <td>granada</td>\n",
       "      <td>73.0</td>\n",
       "      <td>ES</td>\n",
       "      <td>1.622322e+09</td>\n",
       "      <td>55.0</td>\n",
       "      <td>37.2500</td>\n",
       "      <td>-3.2500</td>\n",
       "      <td>68.29</td>\n",
       "      <td>5.53</td>\n",
       "    </tr>\n",
       "    <tr>\n",
       "      <th>560</th>\n",
       "      <td>college</td>\n",
       "      <td>75.0</td>\n",
       "      <td>US</td>\n",
       "      <td>1.622322e+09</td>\n",
       "      <td>44.0</td>\n",
       "      <td>64.8569</td>\n",
       "      <td>-147.8028</td>\n",
       "      <td>52.59</td>\n",
       "      <td>1.01</td>\n",
       "    </tr>\n",
       "    <tr>\n",
       "      <th>561</th>\n",
       "      <td>cleethorpes</td>\n",
       "      <td>0.0</td>\n",
       "      <td>GB</td>\n",
       "      <td>1.622322e+09</td>\n",
       "      <td>92.0</td>\n",
       "      <td>53.5605</td>\n",
       "      <td>-0.0323</td>\n",
       "      <td>59.09</td>\n",
       "      <td>6.76</td>\n",
       "    </tr>\n",
       "    <tr>\n",
       "      <th>562</th>\n",
       "      <td>opuwo</td>\n",
       "      <td>1.0</td>\n",
       "      <td>NA</td>\n",
       "      <td>1.622322e+09</td>\n",
       "      <td>28.0</td>\n",
       "      <td>-18.0607</td>\n",
       "      <td>13.8400</td>\n",
       "      <td>62.78</td>\n",
       "      <td>6.73</td>\n",
       "    </tr>\n",
       "    <tr>\n",
       "      <th>563</th>\n",
       "      <td>carolina</td>\n",
       "      <td>40.0</td>\n",
       "      <td>PR</td>\n",
       "      <td>1.622322e+09</td>\n",
       "      <td>64.0</td>\n",
       "      <td>18.3808</td>\n",
       "      <td>-65.9574</td>\n",
       "      <td>89.10</td>\n",
       "      <td>14.97</td>\n",
       "    </tr>\n",
       "  </tbody>\n",
       "</table>\n",
       "<p>546 rows × 9 columns</p>\n",
       "</div>"
      ],
      "text/plain": [
       "              City  Cloudiness Country          Date  Humidity      Lat  \\\n",
       "0           albany       100.0      US  1.622322e+09      72.0  42.6001   \n",
       "1    victor harbor         0.0      AU  1.622322e+09      70.0 -35.5667   \n",
       "2        cape town        40.0      ZA  1.622321e+09      87.0 -33.9258   \n",
       "3         takayama        70.0      JP  1.622321e+09      90.0  36.1333   \n",
       "4       morant bay        11.0      JM  1.622322e+09      73.0  17.8815   \n",
       "..             ...         ...     ...           ...       ...      ...   \n",
       "559        granada        73.0      ES  1.622322e+09      55.0  37.2500   \n",
       "560        college        75.0      US  1.622322e+09      44.0  64.8569   \n",
       "561    cleethorpes         0.0      GB  1.622322e+09      92.0  53.5605   \n",
       "562          opuwo         1.0      NA  1.622322e+09      28.0 -18.0607   \n",
       "563       carolina        40.0      PR  1.622322e+09      64.0  18.3808   \n",
       "\n",
       "          Lng  Max Temp  Wind Speed  \n",
       "0    -73.9662     53.15        5.37  \n",
       "1    138.6167     49.80        8.16  \n",
       "2     18.4232     58.08        0.07  \n",
       "3    137.2500     52.03        1.57  \n",
       "4    -76.4093     85.62        8.84  \n",
       "..        ...       ...         ...  \n",
       "559   -3.2500     68.29        5.53  \n",
       "560 -147.8028     52.59        1.01  \n",
       "561   -0.0323     59.09        6.76  \n",
       "562   13.8400     62.78        6.73  \n",
       "563  -65.9574     89.10       14.97  \n",
       "\n",
       "[546 rows x 9 columns]"
      ]
     },
     "execution_count": 70,
     "metadata": {},
     "output_type": "execute_result"
    }
   ],
   "source": [
    "# Make a new DataFrame equal to the city data to drop all humidity outliers by index.\n",
    "# Passing \"inplace=False\" will make a copy of the city_data DataFrame, which we call \"clean_city_data\".\n",
    "lowerq = df['Humidity'].quantile(0.25)\n",
    "upperq = df['Humidity'].quantile(0.75)\n",
    "iqr = upperq - lowerq\n",
    "lower_bound = lowerq - (1.5*iqr)\n",
    "upper_bound = upperq + (1.5*iqr)\n",
    "clean_city_data = df[(df['Humidity'] <= upper_bound) & (df['Humidity'] >= lower_bound)]\n",
    "clean_city_data"
   ]
  },
  {
   "cell_type": "code",
   "execution_count": null,
   "metadata": {},
   "outputs": [],
   "source": [
    "\n"
   ]
  },
  {
   "cell_type": "markdown",
   "metadata": {},
   "source": [
    "## Plotting the Data\n",
    "* Use proper labeling of the plots using plot titles (including date of analysis) and axes labels.\n",
    "* Save the plotted figures as .pngs."
   ]
  },
  {
   "cell_type": "markdown",
   "metadata": {},
   "source": [
    "## Latitude vs. Temperature Plot"
   ]
  },
  {
   "cell_type": "code",
   "execution_count": 71,
   "metadata": {
    "scrolled": true
   },
   "outputs": [
    {
     "data": {
      "image/png": "[encoded data removed]",
      "text/plain": [
       "<Figure size 432x288 with 1 Axes>"
      ]
     },
     "metadata": {
      "needs_background": "light"
     },
     "output_type": "display_data"
    }
   ],
   "source": [
    "from datetime import date\n",
    "x_values = df['Lat']\n",
    "y_values = df['Max Temp']\n",
    "plt.scatter(x_values,y_values)\n",
    "plt.xlabel('Latitude')\n",
    "plt.ylabel('Max Temperature (F)')\n",
    "date_run = df.iloc[0, 3]\n",
    "date_run = date.fromtimestamp(date_run)\n",
    "plt.title(f'City Latitude vs. Max Temperature ({date_run})')\n",
    "plt.grid()\n",
    "plt.show()"
   ]
  },
  {
   "cell_type": "markdown",
   "metadata": {},
   "source": [
    "## Latitude vs. Humidity Plot"
   ]
  },
  {
   "cell_type": "code",
   "execution_count": 72,
   "metadata": {},
   "outputs": [
    {
     "data": {
      "image/png": "[encoded data removed]",
      "text/plain": [
       "<Figure size 432x288 with 1 Axes>"
      ]
     },
     "metadata": {
      "needs_background": "light"
     },
     "output_type": "display_data"
    }
   ],
   "source": [
    "x_values = df['Lat']\n",
    "y_values = df['Humidity']\n",
    "plt.scatter(x_values,y_values)\n",
    "plt.xlabel('Latitude')\n",
    "plt.ylabel('Humidity (%)')\n",
    "plt.title(f'City Latitude vs. Humidity ({date_run})')\n",
    "plt.grid()\n",
    "plt.show()"
   ]
  },
  {
   "cell_type": "markdown",
   "metadata": {},
   "source": [
    "## Latitude vs. Cloudiness Plot"
   ]
  },
  {
   "cell_type": "code",
   "execution_count": 73,
   "metadata": {},
   "outputs": [
    {
     "data": {
      "image/png": "[encoded data removed]",
      "text/plain": [
       "<Figure size 432x288 with 1 Axes>"
      ]
     },
     "metadata": {
      "needs_background": "light"
     },
     "output_type": "display_data"
    }
   ],
   "source": [
    "x_values = df['Lat']\n",
    "y_values = df['Cloudiness']\n",
    "plt.scatter(x_values,y_values)\n",
    "plt.xlabel('Latitude')\n",
    "plt.ylabel('Cloudiness (%)')\n",
    "plt.title(f'City Latitude vs. Cloudiness ({date_run})')\n",
    "plt.grid()\n",
    "plt.show()"
   ]
  },
  {
   "cell_type": "markdown",
   "metadata": {},
   "source": [
    "## Latitude vs. Wind Speed Plot"
   ]
  },
  {
   "cell_type": "code",
   "execution_count": 74,
   "metadata": {},
   "outputs": [
    {
     "data": {
      "image/png": "[encoded data removed]",
      "text/plain": [
       "<Figure size 432x288 with 1 Axes>"
      ]
     },
     "metadata": {
      "needs_background": "light"
     },
     "output_type": "display_data"
    }
   ],
   "source": [
    "x_values = df['Lat']\n",
    "y_values = df['Wind Speed']\n",
    "plt.scatter(x_values,y_values)\n",
    "plt.xlabel('Latitude')\n",
    "plt.ylabel('Wind Speed (mph)')\n",
    "plt.title(f'City Latitude vs. Wind Speed ({date_run})')\n",
    "plt.grid()\n",
    "plt.show()"
   ]
  },
  {
   "cell_type": "markdown",
   "metadata": {},
   "source": [
    "## Linear Regression"
   ]
  },
  {
   "cell_type": "code",
   "execution_count": 75,
   "metadata": {},
   "outputs": [],
   "source": [
    "northern_df = df[df['Lat'] > 0]\n",
    "southern_df = df[df['Lat'] < 0]"
   ]
  },
  {
   "cell_type": "markdown",
   "metadata": {},
   "source": [
    "####  Northern Hemisphere - Max Temp vs. Latitude Linear Regression"
   ]
  },
  {
   "cell_type": "code",
   "execution_count": 76,
   "metadata": {},
   "outputs": [
    {
     "name": "stdout",
     "output_type": "stream",
     "text": [
      "The r-value is -0.8248565280898089\n"
     ]
    },
    {
     "data": {
      "image/png": "[encoded data removed]",
      "text/plain": [
       "<Figure size 432x288 with 1 Axes>"
      ]
     },
     "metadata": {
      "needs_background": "light"
     },
     "output_type": "display_data"
    }
   ],
   "source": [
    "def plot_regression(lat_s, y_s, y_label, y_units):\n",
    "    m_slope, m_int, m_r, m_p, m_std_err = linregress(lat_s, y_s)\n",
    "    m_fit = m_slope * lat_s + m_int\n",
    "    print(f\"The r-value is {m_r}\")\n",
    "    plt.scatter(lat_s, y_s)\n",
    "    plt.plot(lat_s, m_fit, color=\"r\", label='y={:.2f}x+{:.2f}'.format(m_slope,m_int))\n",
    "    plt.xlabel('Latitude')\n",
    "    plt.ylabel(f'{y_label} ({y_units})')\n",
    "    plt.title(f'City Latitude vs. {y_label} ({date_run})')\n",
    "    plt.grid()\n",
    "    plt.legend(loc='best')\n",
    "    plt.show()\n",
    "    \n",
    "plot_regression(northern_df['Lat'], northern_df['Max Temp'], 'Max Temp', 'F')"
   ]
  },
  {
   "cell_type": "markdown",
   "metadata": {},
   "source": [
    "####  Southern Hemisphere - Max Temp vs. Latitude Linear Regression"
   ]
  },
  {
   "cell_type": "code",
   "execution_count": 77,
   "metadata": {},
   "outputs": [
    {
     "name": "stdout",
     "output_type": "stream",
     "text": [
      "The r-value is 0.7886478606631817\n"
     ]
    },
    {
     "data": {
      "image/png": "[encoded data removed]",
      "text/plain": [
       "<Figure size 432x288 with 1 Axes>"
      ]
     },
     "metadata": {
      "needs_background": "light"
     },
     "output_type": "display_data"
    }
   ],
   "source": [
    "plot_regression(southern_df['Lat'], southern_df['Max Temp'], 'Max Temp', 'F')"
   ]
  },
  {
   "cell_type": "markdown",
   "metadata": {},
   "source": [
    "####  Northern Hemisphere - Humidity (%) vs. Latitude Linear Regression"
   ]
  },
  {
   "cell_type": "code",
   "execution_count": 78,
   "metadata": {},
   "outputs": [
    {
     "name": "stdout",
     "output_type": "stream",
     "text": [
      "The r-value is 0.07845788466931627\n"
     ]
    },
    {
     "data": {
      "image/png": "[encoded data removed]",
      "text/plain": [
       "<Figure size 432x288 with 1 Axes>"
      ]
     },
     "metadata": {
      "needs_background": "light"
     },
     "output_type": "display_data"
    }
   ],
   "source": [
    "plot_regression(northern_df['Lat'], northern_df['Humidity'], 'Humidity', '%')"
   ]
  },
  {
   "cell_type": "markdown",
   "metadata": {},
   "source": [
    "####  Southern Hemisphere - Humidity (%) vs. Latitude Linear Regression"
   ]
  },
  {
   "cell_type": "code",
   "execution_count": 79,
   "metadata": {},
   "outputs": [
    {
     "name": "stdout",
     "output_type": "stream",
     "text": [
      "The r-value is 0.033217158335201655\n"
     ]
    },
    {
     "data": {
      "image/png": "[encoded data removed]",
      "text/plain": [
       "<Figure size 432x288 with 1 Axes>"
      ]
     },
     "metadata": {
      "needs_background": "light"
     },
     "output_type": "display_data"
    }
   ],
   "source": [
    "plot_regression(southern_df['Lat'], southern_df['Humidity'], 'Humidity', '%')"
   ]
  },
  {
   "cell_type": "markdown",
   "metadata": {},
   "source": [
    "####  Northern Hemisphere - Cloudiness (%) vs. Latitude Linear Regression"
   ]
  },
  {
   "cell_type": "code",
   "execution_count": 80,
   "metadata": {},
   "outputs": [
    {
     "name": "stdout",
     "output_type": "stream",
     "text": [
      "The r-value is -0.06058878258145144\n"
     ]
    },
    {
     "data": {
      "image/png": "[encoded data removed]",
      "text/plain": [
       "<Figure size 432x288 with 1 Axes>"
      ]
     },
     "metadata": {
      "needs_background": "light"
     },
     "output_type": "display_data"
    }
   ],
   "source": [
    "plot_regression(northern_df['Lat'], northern_df['Cloudiness'], 'Cloudiness', '%')"
   ]
  },
  {
   "cell_type": "markdown",
   "metadata": {},
   "source": [
    "####  Southern Hemisphere - Cloudiness (%) vs. Latitude Linear Regression"
   ]
  },
  {
   "cell_type": "code",
   "execution_count": 81,
   "metadata": {},
   "outputs": [
    {
     "name": "stdout",
     "output_type": "stream",
     "text": [
      "The r-value is 0.12788457293445873\n"
     ]
    },
    {
     "data": {
      "image/png": "[encoded data removed]",
      "text/plain": [
       "<Figure size 432x288 with 1 Axes>"
      ]
     },
     "metadata": {
      "needs_background": "light"
     },
     "output_type": "display_data"
    }
   ],
   "source": [
    "plot_regression(southern_df['Lat'], southern_df['Cloudiness'], 'Cloudiness', '%')"
   ]
  },
  {
   "cell_type": "markdown",
   "metadata": {},
   "source": [
    "####  Northern Hemisphere - Wind Speed (mph) vs. Latitude Linear Regression"
   ]
  },
  {
   "cell_type": "code",
   "execution_count": 82,
   "metadata": {},
   "outputs": [
    {
     "name": "stdout",
     "output_type": "stream",
     "text": [
      "The r-value is 0.03546871987429306\n"
     ]
    },
    {
     "data": {
      "image/png": "[encoded data removed]",
      "text/plain": [
       "<Figure size 432x288 with 1 Axes>"
      ]
     },
     "metadata": {
      "needs_background": "light"
     },
     "output_type": "display_data"
    }
   ],
   "source": [
    "plot_regression(northern_df['Lat'], northern_df['Wind Speed'], 'Wind Speed', 'mph')"
   ]
  },
  {
   "cell_type": "markdown",
   "metadata": {},
   "source": [
    "####  Southern Hemisphere - Wind Speed (mph) vs. Latitude Linear Regression"
   ]
  },
  {
   "cell_type": "code",
   "execution_count": 83,
   "metadata": {},
   "outputs": [
    {
     "name": "stdout",
     "output_type": "stream",
     "text": [
      "The r-value is -0.2402914790037959\n"
     ]
    },
    {
     "data": {
      "image/png": "[encoded data removed]",
      "text/plain": [
       "<Figure size 432x288 with 1 Axes>"
      ]
     },
     "metadata": {
      "needs_background": "light"
     },
     "output_type": "display_data"
    }
   ],
   "source": [
    "plot_regression(southern_df['Lat'], southern_df['Wind Speed'], 'Wind Speed', 'mph')"
   ]
  },
  {
   "cell_type": "code",
   "execution_count": null,
   "metadata": {},
   "outputs": [],
   "source": []
  }
 ],
 "metadata": {
  "anaconda-cloud": {},
  "kernel_info": {
   "name": "python3"
  },
  "kernelspec": {
   "display_name": "Python 3",
   "language": "python",
   "name": "python3"
  },
  "language_info": {
   "codemirror_mode": {
    "name": "ipython",
    "version": 3
   },
   "file_extension": ".py",
   "mimetype": "text/x-python",
   "name": "python",
   "nbconvert_exporter": "python",
   "pygments_lexer": "ipython3",
   "version": "3.7.6"
  },
  "latex_envs": {
   "LaTeX_envs_menu_present": true,
   "autoclose": false,
   "autocomplete": true,
   "bibliofile": "biblio.bib",
   "cite_by": "apalike",
   "current_citInitial": 1,
   "eqLabelWithNumbers": true,
   "eqNumInitial": 1,
   "hotkeys": {
    "equation": "Ctrl-E",
    "itemize": "Ctrl-I"
   },
   "labels_anchors": false,
   "latex_user_defs": false,
   "report_style_numbering": false,
   "user_envs_cfg": false
  },
  "nteract": {
   "version": "0.12.3"
  }
 },
 "nbformat": 4,
 "nbformat_minor": 2
}
