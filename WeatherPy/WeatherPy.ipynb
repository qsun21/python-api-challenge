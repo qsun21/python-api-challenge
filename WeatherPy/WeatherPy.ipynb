{
 "cells": [
  {
   "cell_type": "code",
   "execution_count": null,
   "metadata": {},
   "outputs": [],
   "source": [
    "import sys\n",
    "!{sys.executable} -m pip install citipy"
   ]
  },
  {
   "cell_type": "markdown",
   "metadata": {},
   "source": [
    "# WeatherPy\n",
    "----\n",
    "\n",
    "#### Note\n",
    "* Instructions have been included for each segment. You do not have to follow them exactly, but they are included to help you think through the steps."
   ]
  },
  {
   "cell_type": "code",
   "execution_count": 1,
   "metadata": {
    "scrolled": false
   },
   "outputs": [],
   "source": [
    "# Dependencies and Setup\n",
    "import matplotlib.pyplot as plt\n",
    "import pandas as pd\n",
    "import numpy as np\n",
    "import requests\n",
    "import time\n",
    "from scipy.stats import linregress\n",
    "import sys\n",
    "sys.path.append(\"../\")\n",
    "\n",
    "# Import API key\n",
    "from api_keys import weather_api_key\n",
    "\n",
    "# Incorporated citipy to determine city based on latitude and longitude\n",
    "from citipy import citipy\n",
    "\n",
    "# Output File (CSV)\n",
    "output_data_file = \"output_data/cities.csv\"\n",
    "\n",
    "# Range of latitudes and longitudes\n",
    "lat_range = (-90, 90)\n",
    "lng_range = (-180, 180)"
   ]
  },
  {
   "cell_type": "markdown",
   "metadata": {},
   "source": [
    "## Generate Cities List"
   ]
  },
  {
   "cell_type": "code",
   "execution_count": 2,
   "metadata": {},
   "outputs": [
    {
     "data": {
      "text/plain": [
       "599"
      ]
     },
     "execution_count": 2,
     "metadata": {},
     "output_type": "execute_result"
    }
   ],
   "source": [
    "# List for holding lat_lngs and cities\n",
    "lat_lngs = []\n",
    "cities = []\n",
    "\n",
    "# Create a set of random lat and lng combinations\n",
    "lats = np.random.uniform(lat_range[0], lat_range[1], size=1500)\n",
    "lngs = np.random.uniform(lng_range[0], lng_range[1], size=1500)\n",
    "lat_lngs = zip(lats, lngs)\n",
    "\n",
    "# Identify nearest city for each lat, lng combination\n",
    "for lat_lng in lat_lngs:\n",
    "    city = citipy.nearest_city(lat_lng[0], lat_lng[1]).city_name\n",
    "    \n",
    "    # If the city is unique, then add it to a our cities list\n",
    "    if city not in cities:\n",
    "        cities.append(city)\n",
    "\n",
    "# Print the city count to confirm sufficient count\n",
    "len(cities)"
   ]
  },
  {
   "cell_type": "markdown",
   "metadata": {},
   "source": [
    "### Perform API Calls\n",
    "* Perform a weather check on each city using a series of successive API calls.\n",
    "* Include a print log of each city as it'sbeing processed (with the city number and city name).\n"
   ]
  },
  {
   "cell_type": "code",
   "execution_count": 3,
   "metadata": {
    "scrolled": true
   },
   "outputs": [
    {
     "name": "stdout",
     "output_type": "stream",
     "text": [
      "Beginning Data Retrieval\n",
      "-------------------------\n",
      "af3b614283e3aa84cf172d6d0ea5f73a\n",
      "Processing Record 0 | victoria\n",
      "Processing Record 1 | busselton\n",
      "Processing Record 2 | puerto ayora\n",
      "Processing Record 3 | mackay\n",
      "Processing Record 4 | atuona\n",
      "Processing Record 5 | alofi\n",
      "Processing Record 6 | saint-philippe\n",
      "Processing Record 7 | rikitea\n",
      "Processing Record 8 | ushuaia\n",
      "Processing Record 9 | japura\n",
      "Processing Record 10 | esperance\n",
      "Processing Record 11 | valleyview\n",
      "Processing Record 12 | mar del plata\n",
      "Processing Record 13 | nikolskoye\n",
      "Processing Record 14 | punta arenas\n",
      "Processing Record 15 | tsihombe\n",
      "Error processing city 15 tsihombe...\n",
      "Processing Record 15 | barrow\n",
      "Processing Record 16 | ponta do sol\n",
      "Processing Record 17 | arroyos y esteros\n",
      "Processing Record 18 | qaanaaq\n",
      "Processing Record 19 | athabasca\n",
      "Processing Record 20 | new norfolk\n",
      "Processing Record 21 | taolanaro\n",
      "Error processing city 21 taolanaro...\n",
      "Processing Record 21 | yellowknife\n",
      "Processing Record 22 | pevek\n",
      "Processing Record 23 | chekhov\n",
      "Processing Record 24 | meulaboh\n",
      "Processing Record 25 | nebug\n",
      "Processing Record 26 | talaya\n",
      "Processing Record 27 | ulaangom\n",
      "Processing Record 28 | airai\n",
      "Processing Record 29 | belushya guba\n",
      "Error processing city 29 belushya guba...\n",
      "Processing Record 29 | shenjiamen\n",
      "Processing Record 30 | kavieng\n",
      "Processing Record 31 | longyearbyen\n",
      "Processing Record 32 | luderitz\n",
      "Processing Record 33 | albany\n",
      "Processing Record 34 | ilulissat\n",
      "Processing Record 35 | ribeira grande\n",
      "Processing Record 36 | cape town\n",
      "Processing Record 37 | coquimbo\n",
      "Processing Record 38 | yaan\n",
      "Processing Record 39 | palabuhanratu\n",
      "Error processing city 39 palabuhanratu...\n",
      "Processing Record 39 | ixtapa\n",
      "Processing Record 40 | joensuu\n",
      "Processing Record 41 | ouadda\n",
      "Processing Record 42 | kaitangata\n",
      "Processing Record 43 | avarua\n",
      "Processing Record 44 | college\n",
      "Processing Record 45 | cherskiy\n",
      "Processing Record 46 | faanui\n",
      "Processing Record 47 | port hardy\n",
      "Processing Record 48 | tucuman\n",
      "Processing Record 49 | vila do maio\n",
      "Processing Record 50 | sur\n",
      "Processing Record 51 | vysokogornyy\n",
      "Processing Record 52 | hilo\n",
      "Processing Record 53 | hermanus\n",
      "Processing Record 54 | griffith\n",
      "Processing Record 55 | tiarei\n",
      "Processing Record 56 | hagere hiywet\n",
      "Processing Record 57 | mahebourg\n",
      "Processing Record 58 | chernogorsk\n",
      "Processing Record 59 | ipixuna\n",
      "Processing Record 60 | bluff\n",
      "Processing Record 61 | port alfred\n",
      "Processing Record 62 | trelew\n",
      "Processing Record 63 | mandan\n",
      "Processing Record 64 | mananjary\n",
      "Processing Record 65 | saint george\n",
      "Processing Record 66 | marawi\n",
      "Processing Record 67 | dumas\n",
      "Processing Record 68 | tuatapere\n",
      "Processing Record 69 | hobyo\n",
      "Processing Record 70 | vao\n",
      "Processing Record 71 | butaritari\n",
      "Processing Record 72 | sentyabrskiy\n",
      "Error processing city 72 sentyabrskiy...\n",
      "Processing Record 72 | adrar\n",
      "Processing Record 73 | svetlogorsk\n",
      "Processing Record 74 | dikson\n",
      "Processing Record 75 | kodiak\n",
      "Processing Record 76 | carnarvon\n",
      "Processing Record 77 | ancud\n",
      "Processing Record 78 | balikpapan\n",
      "Processing Record 79 | ahipara\n",
      "Processing Record 80 | rurrenabaque\n",
      "Processing Record 81 | sola\n",
      "Processing Record 82 | ann arbor\n",
      "Processing Record 83 | sitka\n",
      "Processing Record 84 | hasaki\n",
      "Processing Record 85 | sorong\n",
      "Processing Record 86 | upernavik\n",
      "Processing Record 87 | bathsheba\n",
      "Processing Record 88 | port blair\n",
      "Processing Record 89 | tuktoyaktuk\n",
      "Processing Record 90 | pangnirtung\n",
      "Processing Record 91 | mataura\n",
      "Processing Record 92 | tejupilco\n",
      "Error processing city 92 tejupilco...\n",
      "Processing Record 92 | vaini\n",
      "Processing Record 93 | chokurdakh\n",
      "Processing Record 94 | asyut\n",
      "Processing Record 95 | sao joao da barra\n",
      "Processing Record 96 | hithadhoo\n",
      "Processing Record 97 | tual\n",
      "Processing Record 98 | sidmouth\n",
      "Processing Record 99 | bethel\n",
      "Processing Record 100 | ouricuri\n",
      "Processing Record 101 | cristalina\n",
      "Processing Record 102 | curvelo\n",
      "Processing Record 103 | castro\n",
      "Processing Record 104 | georgetown\n",
      "Processing Record 105 | kavaratti\n",
      "Processing Record 106 | moissala\n",
      "Processing Record 107 | puqi\n",
      "Processing Record 108 | luena\n",
      "Processing Record 109 | valdepenas\n",
      "Processing Record 110 | amderma\n",
      "Error processing city 110 amderma...\n",
      "Processing Record 110 | codrington\n",
      "Processing Record 111 | cachoeiro de itapemirim\n",
      "Processing Record 112 | sept-iles\n",
      "Processing Record 113 | talakan\n",
      "Processing Record 114 | hoquiam\n",
      "Processing Record 115 | baltasi\n",
      "Processing Record 116 | berlevag\n",
      "Processing Record 117 | mwinilunga\n",
      "Processing Record 118 | turayf\n",
      "Processing Record 119 | chitral\n",
      "Processing Record 120 | guanica\n",
      "Processing Record 121 | port elizabeth\n",
      "Processing Record 122 | aklavik\n",
      "Processing Record 123 | barentsburg\n",
      "Error processing city 123 barentsburg...\n",
      "Processing Record 123 | provideniya\n",
      "Processing Record 124 | chifeng\n",
      "Processing Record 125 | taltal\n",
      "Processing Record 126 | tasiilaq\n",
      "Processing Record 127 | nioro\n",
      "Processing Record 128 | verkhoyansk\n",
      "Processing Record 129 | bengkulu\n",
      "Processing Record 130 | bredasdorp\n",
      "Processing Record 131 | labuhan\n",
      "Processing Record 132 | touros\n",
      "Processing Record 133 | igra\n",
      "Processing Record 134 | natal\n",
      "Processing Record 135 | perbaungan\n",
      "Processing Record 136 | angoche\n",
      "Processing Record 137 | faya\n",
      "Processing Record 138 | san patricio\n",
      "Processing Record 139 | severo-kurilsk\n",
      "Processing Record 140 | salawagan\n",
      "Processing Record 141 | kapaa\n",
      "Processing Record 142 | khatanga\n",
      "Processing Record 143 | gobabis\n",
      "Processing Record 144 | timbiras\n",
      "Processing Record 145 | fortuna\n",
      "Processing Record 146 | east london\n",
      "Processing Record 147 | colares\n",
      "Processing Record 148 | sharan\n",
      "Processing Record 149 | muhos\n",
      "Processing Record 150 | inuvik\n",
      "Processing Record 151 | verdun\n",
      "Processing Record 152 | dubrovytsya\n",
      "Processing Record 153 | kahului\n",
      "Processing Record 154 | asau\n",
      "Processing Record 155 | xuddur\n",
      "Processing Record 156 | jamestown\n",
      "Processing Record 157 | maisuru\n",
      "Error processing city 157 maisuru...\n",
      "Processing Record 157 | nambucca heads\n",
      "Processing Record 158 | lagoa\n",
      "Processing Record 159 | hobart\n",
      "Processing Record 160 | vila\n",
      "Processing Record 161 | derzhavinsk\n",
      "Processing Record 162 | burica\n",
      "Error processing city 162 burica...\n",
      "Processing Record 162 | general roca\n",
      "Processing Record 163 | mayo\n",
      "Processing Record 164 | tinskoy\n",
      "Processing Record 165 | paradwip\n",
      "Error processing city 165 paradwip...\n",
      "Processing Record 165 | attawapiskat\n",
      "Error processing city 165 attawapiskat...\n",
      "Processing Record 165 | komatipoort\n",
      "Processing Record 166 | guajara-mirim\n",
      "Error processing city 166 guajara-mirim...\n",
      "Processing Record 166 | bushehr\n",
      "Processing Record 167 | manta\n",
      "Processing Record 168 | chagda\n",
      "Error processing city 168 chagda...\n",
      "Processing Record 168 | rafaela\n",
      "Processing Record 169 | kutum\n",
      "Processing Record 170 | antequera\n",
      "Processing Record 171 | solano\n",
      "Processing Record 172 | oktyabrskoye\n",
      "Processing Record 173 | suffolk\n",
      "Processing Record 174 | hervey bay\n",
      "Processing Record 175 | nacozari\n",
      "Processing Record 176 | georgiyevka\n",
      "Processing Record 177 | umzimvubu\n",
      "Error processing city 177 umzimvubu...\n",
      "Processing Record 177 | cheuskiny\n",
      "Error processing city 177 cheuskiny...\n",
      "Processing Record 177 | bartica\n",
      "Processing Record 178 | mys shmidta\n",
      "Error processing city 178 mys shmidta...\n",
      "Processing Record 178 | chuy\n",
      "Processing Record 179 | torbay\n",
      "Processing Record 180 | itarema\n",
      "Processing Record 181 | komsomolskiy\n",
      "Processing Record 182 | champerico\n",
      "Processing Record 183 | jiayuguan\n",
      "Processing Record 184 | kruisfontein\n",
      "Processing Record 185 | tiksi\n",
      "Processing Record 186 | burnie\n",
      "Processing Record 187 | lakshettipet\n",
      "Processing Record 188 | riachao das neves\n",
      "Processing Record 189 | kasane\n",
      "Processing Record 190 | kiboga\n",
      "Processing Record 191 | kobojango\n",
      "Error processing city 191 kobojango...\n",
      "Processing Record 191 | oistins\n",
      "Processing Record 192 | estevan\n",
      "Processing Record 193 | comodoro rivadavia\n",
      "Processing Record 194 | bar harbor\n",
      "Processing Record 195 | inhambane\n",
      "Processing Record 196 | basco\n",
      "Processing Record 197 | ngorongoro\n",
      "Processing Record 198 | bereznik\n",
      "Processing Record 199 | daru\n",
      "Processing Record 200 | thinadhoo\n",
      "Processing Record 201 | nizhneyansk\n",
      "Error processing city 201 nizhneyansk...\n",
      "Processing Record 201 | saleaula\n",
      "Error processing city 201 saleaula...\n",
      "Processing Record 201 | ubinskoye\n",
      "Processing Record 202 | jining\n",
      "Processing Record 203 | nachingwea\n"
     ]
    },
    {
     "name": "stdout",
     "output_type": "stream",
     "text": [
      "Processing Record 204 | katsuura\n",
      "Processing Record 205 | riyadh\n",
      "Processing Record 206 | sierpc\n",
      "Processing Record 207 | mucurapo\n",
      "Processing Record 208 | kawalu\n",
      "Processing Record 209 | pisco\n",
      "Processing Record 210 | cayenne\n",
      "Processing Record 211 | saint anthony\n",
      "Processing Record 212 | suez\n",
      "Processing Record 213 | sibu\n",
      "Processing Record 214 | arraial do cabo\n",
      "Processing Record 215 | garowe\n",
      "Processing Record 216 | port lincoln\n",
      "Processing Record 217 | nelson bay\n",
      "Processing Record 218 | illoqqortoormiut\n",
      "Error processing city 218 illoqqortoormiut...\n",
      "Processing Record 218 | klaksvik\n",
      "Processing Record 219 | nhulunbuy\n",
      "Processing Record 220 | lima\n",
      "Processing Record 221 | grand centre\n",
      "Error processing city 221 grand centre...\n",
      "Processing Record 221 | saldanha\n",
      "Processing Record 222 | batagay-alyta\n",
      "Processing Record 223 | gat\n",
      "Processing Record 224 | port macquarie\n",
      "Processing Record 225 | timizart\n",
      "Processing Record 226 | chingola\n",
      "Processing Record 227 | vila franca do campo\n",
      "Processing Record 228 | bereda\n",
      "Processing Record 229 | belmonte\n",
      "Processing Record 230 | jalu\n",
      "Processing Record 231 | mizdah\n",
      "Processing Record 232 | muroto\n",
      "Processing Record 233 | lufilufi\n",
      "Processing Record 234 | san quintin\n",
      "Processing Record 235 | sao filipe\n",
      "Processing Record 236 | vestmanna\n",
      "Processing Record 237 | cavalcante\n",
      "Processing Record 238 | bahar\n",
      "Processing Record 239 | kenai\n",
      "Processing Record 240 | garsten\n",
      "Processing Record 241 | hualmay\n",
      "Processing Record 242 | uberlandia\n",
      "Processing Record 243 | nanortalik\n",
      "Processing Record 244 | lincoln\n",
      "Processing Record 245 | pouebo\n",
      "Processing Record 246 | moerai\n",
      "Processing Record 247 | pingliang\n",
      "Processing Record 248 | vizinga\n",
      "Processing Record 249 | aswan\n",
      "Processing Record 250 | kaeo\n",
      "Processing Record 251 | leh\n",
      "Processing Record 252 | hearst\n",
      "Processing Record 253 | sampit\n",
      "Processing Record 254 | nantucket\n",
      "Processing Record 255 | mount isa\n",
      "Processing Record 256 | sioux lookout\n",
      "Processing Record 257 | guerrero negro\n",
      "Processing Record 258 | dingle\n",
      "Processing Record 259 | taoudenni\n",
      "Processing Record 260 | saravan\n",
      "Processing Record 261 | thompson\n",
      "Processing Record 262 | laguna\n",
      "Processing Record 263 | ponta delgada\n",
      "Processing Record 264 | marsa matruh\n",
      "Processing Record 265 | aras\n",
      "Processing Record 266 | bambous virieux\n",
      "Processing Record 267 | phrae\n",
      "Processing Record 268 | swift current\n",
      "Processing Record 269 | beidao\n",
      "Processing Record 270 | bardiyah\n",
      "Processing Record 271 | mount gambier\n",
      "Processing Record 272 | guacimo\n",
      "Processing Record 273 | mancora\n",
      "Processing Record 274 | naze\n",
      "Processing Record 275 | olinda\n",
      "Processing Record 276 | turiacu\n",
      "Processing Record 277 | praya\n",
      "Processing Record 278 | mecca\n",
      "Processing Record 279 | kargasok\n",
      "Processing Record 280 | nouakchott\n",
      "Processing Record 281 | ostrovnoy\n",
      "Processing Record 282 | ust-ishim\n",
      "Processing Record 283 | norman wells\n",
      "Processing Record 284 | lompoc\n",
      "Processing Record 285 | maragogi\n",
      "Processing Record 286 | tambo\n",
      "Processing Record 287 | oyama\n",
      "Processing Record 288 | agirish\n",
      "Processing Record 289 | houma\n",
      "Processing Record 290 | cidreira\n",
      "Processing Record 291 | tarrafal\n",
      "Processing Record 292 | russell\n",
      "Processing Record 293 | tutoia\n",
      "Processing Record 294 | carutapera\n",
      "Processing Record 295 | elizabeth city\n",
      "Processing Record 296 | asosa\n",
      "Processing Record 297 | safaga\n",
      "Processing Record 298 | artyk\n",
      "Error processing city 298 artyk...\n",
      "Processing Record 298 | saskylakh\n",
      "Processing Record 299 | samandag\n",
      "Processing Record 300 | yar-sale\n",
      "Processing Record 301 | san clemente\n",
      "Processing Record 302 | kokkola\n",
      "Processing Record 303 | baruun-urt\n",
      "Processing Record 304 | lata\n",
      "Processing Record 305 | uyskoye\n",
      "Processing Record 306 | mandalgovi\n",
      "Processing Record 307 | clyde river\n",
      "Processing Record 308 | asfi\n",
      "Processing Record 309 | karkal\n",
      "Processing Record 310 | ormara\n",
      "Processing Record 311 | qaqortoq\n",
      "Processing Record 312 | port-gentil\n",
      "Processing Record 313 | skalistyy\n",
      "Error processing city 313 skalistyy...\n",
      "Processing Record 313 | leningradskiy\n",
      "Processing Record 314 | beloha\n",
      "Processing Record 315 | nalut\n",
      "Processing Record 316 | naftah\n",
      "Error processing city 316 naftah...\n",
      "Processing Record 316 | abbeville\n",
      "Processing Record 317 | rawson\n",
      "Processing Record 318 | atar\n",
      "Processing Record 319 | puerto penasco\n",
      "Processing Record 320 | angul\n",
      "Processing Record 321 | camapua\n",
      "Processing Record 322 | pinsk\n",
      "Processing Record 323 | bontang\n",
      "Processing Record 324 | kapit\n",
      "Processing Record 325 | camacha\n",
      "Processing Record 326 | ambulu\n",
      "Processing Record 327 | cap-aux-meules\n",
      "Processing Record 328 | paamiut\n",
      "Processing Record 329 | martapura\n",
      "Processing Record 330 | berja\n",
      "Processing Record 331 | omagh\n",
      "Processing Record 332 | meyungs\n",
      "Error processing city 332 meyungs...\n",
      "Processing Record 332 | shieli\n",
      "Processing Record 333 | marica\n",
      "Processing Record 334 | lukoyanov\n",
      "Processing Record 335 | nizhneangarsk\n",
      "Processing Record 336 | kupino\n",
      "Processing Record 337 | brookings\n",
      "Processing Record 338 | havre-saint-pierre\n",
      "Processing Record 339 | souillac\n",
      "Processing Record 340 | taft\n",
      "Processing Record 341 | narsaq\n",
      "Processing Record 342 | ngukurr\n",
      "Error processing city 342 ngukurr...\n",
      "Processing Record 342 | eyrarbakki\n",
      "Processing Record 343 | douglas\n",
      "Processing Record 344 | namatanai\n",
      "Processing Record 345 | sovetskiy\n",
      "Processing Record 346 | khilok\n",
      "Processing Record 347 | sorland\n",
      "Processing Record 348 | chivay\n",
      "Processing Record 349 | arman\n",
      "Processing Record 350 | tarakan\n",
      "Processing Record 351 | moron\n",
      "Processing Record 352 | tabas\n",
      "Processing Record 353 | boende\n",
      "Processing Record 354 | praia da vitoria\n",
      "Processing Record 355 | tabou\n",
      "Processing Record 356 | vestmannaeyjar\n",
      "Processing Record 357 | coihaique\n",
      "Processing Record 358 | lebu\n",
      "Processing Record 359 | buenlag\n",
      "Processing Record 360 | casablanca\n",
      "Processing Record 361 | agadez\n",
      "Processing Record 362 | bandarbeyla\n",
      "Processing Record 363 | yulara\n",
      "Processing Record 364 | mapastepec\n",
      "Processing Record 365 | novo aripuana\n",
      "Processing Record 366 | port keats\n",
      "Processing Record 367 | tecoanapa\n",
      "Processing Record 368 | belyy yar\n",
      "Processing Record 369 | mantua\n",
      "Processing Record 370 | tabuk\n",
      "Processing Record 371 | bandar-e torkaman\n",
      "Error processing city 371 bandar-e torkaman...\n",
      "Processing Record 371 | atkarsk\n",
      "Processing Record 372 | karasburg\n",
      "Processing Record 373 | sinnamary\n",
      "Processing Record 374 | sterling\n",
      "Processing Record 375 | berbera\n",
      "Processing Record 376 | plettenberg bay\n",
      "Processing Record 377 | tumannyy\n",
      "Error processing city 377 tumannyy...\n",
      "Processing Record 377 | opuwo\n",
      "Processing Record 378 | iqaluit\n",
      "Processing Record 379 | keffi\n",
      "Processing Record 380 | tarauaca\n",
      "Processing Record 381 | nemuro\n",
      "Processing Record 382 | moose factory\n",
      "Processing Record 383 | salalah\n",
      "Processing Record 384 | arrifes\n",
      "Processing Record 385 | kerman\n",
      "Processing Record 386 | kilindoni\n",
      "Processing Record 387 | vaitupu\n",
      "Error processing city 387 vaitupu...\n",
      "Processing Record 387 | isiro\n",
      "Processing Record 388 | nagua\n",
      "Processing Record 389 | limbazi\n",
      "Processing Record 390 | nome\n",
      "Processing Record 391 | chama\n",
      "Processing Record 392 | saintes\n",
      "Processing Record 393 | moba\n",
      "Processing Record 394 | bilibino\n",
      "Processing Record 395 | sibolga\n",
      "Processing Record 396 | kamenka\n",
      "Processing Record 397 | zhigansk\n",
      "Processing Record 398 | rayong\n",
      "Processing Record 399 | jumla\n",
      "Processing Record 400 | pitimbu\n",
      "Processing Record 401 | siavonga\n",
      "Processing Record 402 | montepuez\n",
      "Processing Record 403 | anori\n",
      "Processing Record 404 | makat\n",
      "Processing Record 405 | alice springs\n",
      "Processing Record 406 | teya\n",
      "Processing Record 407 | itaituba\n",
      "Processing Record 408 | augusto correa\n",
      "Processing Record 409 | vardo\n",
      "Processing Record 410 | rio gallegos\n",
      "Processing Record 411 | kirakira\n",
      "Processing Record 412 | rungata\n",
      "Error processing city 412 rungata...\n",
      "Processing Record 412 | yanam\n",
      "Processing Record 413 | san cristobal\n",
      "Processing Record 414 | tonantins\n",
      "Processing Record 415 | arvika\n",
      "Processing Record 416 | buala\n",
      "Processing Record 417 | haines junction\n",
      "Processing Record 418 | namibe\n",
      "Processing Record 419 | amalapuram\n",
      "Processing Record 420 | blythe\n",
      "Processing Record 421 | corinto\n",
      "Processing Record 422 | guye\n",
      "Processing Record 423 | grindavik\n",
      "Processing Record 424 | linda\n",
      "Processing Record 425 | zaraza\n",
      "Processing Record 426 | samusu\n",
      "Error processing city 426 samusu...\n",
      "Processing Record 426 | maceio\n",
      "Processing Record 427 | kolokani\n"
     ]
    },
    {
     "name": "stdout",
     "output_type": "stream",
     "text": [
      "Processing Record 428 | camana\n",
      "Processing Record 429 | terme\n",
      "Processing Record 430 | half moon bay\n",
      "Processing Record 431 | brae\n",
      "Processing Record 432 | bizhbulyak\n",
      "Processing Record 433 | manacapuru\n",
      "Processing Record 434 | dalby\n",
      "Processing Record 435 | ust-maya\n",
      "Processing Record 436 | mitchell\n",
      "Processing Record 437 | talnakh\n",
      "Processing Record 438 | inverell\n",
      "Processing Record 439 | hami\n",
      "Processing Record 440 | ust-karsk\n",
      "Processing Record 441 | ketchikan\n",
      "Processing Record 442 | wilmington\n",
      "Processing Record 443 | flinders\n",
      "Processing Record 444 | the pas\n",
      "Processing Record 445 | fare\n",
      "Processing Record 446 | grootfontein\n",
      "Processing Record 447 | prince rupert\n",
      "Processing Record 448 | axim\n",
      "Processing Record 449 | mehamn\n",
      "Processing Record 450 | kushima\n",
      "Processing Record 451 | key west\n",
      "Processing Record 452 | amga\n",
      "Processing Record 453 | kingman\n",
      "Processing Record 454 | calvinia\n",
      "Processing Record 455 | esik\n",
      "Processing Record 456 | haibowan\n",
      "Error processing city 456 haibowan...\n",
      "Processing Record 456 | evensk\n",
      "Processing Record 457 | itoman\n",
      "Processing Record 458 | cabo san lucas\n",
      "Processing Record 459 | nisia floresta\n",
      "Processing Record 460 | broome\n",
      "Processing Record 461 | the valley\n",
      "Processing Record 462 | xihe\n",
      "Processing Record 463 | along\n",
      "Processing Record 464 | ziro\n",
      "Processing Record 465 | yokadouma\n",
      "Processing Record 466 | omsukchan\n",
      "Processing Record 467 | lolua\n",
      "Error processing city 467 lolua...\n",
      "Processing Record 467 | veraval\n",
      "Processing Record 468 | ballina\n",
      "Processing Record 469 | cap malheureux\n",
      "Processing Record 470 | severnyy\n",
      "Processing Record 471 | bighapur\n",
      "Processing Record 472 | hazorasp\n",
      "Processing Record 473 | kempsey\n",
      "Processing Record 474 | mauriti\n",
      "Processing Record 475 | tazovskiy\n",
      "Processing Record 476 | sanary-sur-mer\n",
      "Processing Record 477 | tawzar\n",
      "Error processing city 477 tawzar...\n",
      "Processing Record 477 | formoso do araguaia\n",
      "Error processing city 477 formoso do araguaia...\n",
      "Processing Record 477 | dinguiraye\n",
      "Processing Record 478 | berdigestyakh\n",
      "Processing Record 479 | takoradi\n",
      "Processing Record 480 | crab hill\n",
      "Error processing city 480 crab hill...\n",
      "Processing Record 480 | varadero\n",
      "Processing Record 481 | awbari\n",
      "Processing Record 482 | mogadishu\n",
      "Processing Record 483 | avera\n",
      "Processing Record 484 | saint-pierre\n",
      "Processing Record 485 | verkhnyaya toyma\n",
      "Processing Record 486 | polunochnoye\n",
      "Processing Record 487 | trincomalee\n",
      "Processing Record 488 | chicama\n",
      "Processing Record 489 | bafoulabe\n",
      "Processing Record 490 | rundu\n",
      "Processing Record 491 | salinopolis\n",
      "Processing Record 492 | boljarovo\n",
      "Error processing city 492 boljarovo...\n",
      "Processing Record 492 | duz\n",
      "Error processing city 492 duz...\n",
      "Processing Record 492 | yanan\n",
      "Error processing city 492 yanan...\n",
      "Processing Record 492 | veinticinco de mayo\n",
      "Processing Record 493 | mrirt\n",
      "Error processing city 493 mrirt...\n",
      "Processing Record 493 | sao luiz gonzaga\n",
      "Processing Record 494 | oranjemund\n",
      "Processing Record 495 | muravlenko\n",
      "Processing Record 496 | tinaquillo\n",
      "Processing Record 497 | susanville\n",
      "Processing Record 498 | aripuana\n",
      "Processing Record 499 | susangerd\n",
      "Processing Record 500 | la ronge\n",
      "Processing Record 501 | leshukonskoye\n",
      "Processing Record 502 | port hedland\n",
      "Processing Record 503 | rehoboth\n",
      "Processing Record 504 | barcelos\n",
      "Processing Record 505 | honningsvag\n",
      "Processing Record 506 | bilma\n",
      "Processing Record 507 | olafsvik\n",
      "Processing Record 508 | ambilobe\n",
      "Processing Record 509 | dhidhdhoo\n",
      "Processing Record 510 | mount pleasant\n",
      "Processing Record 511 | balakhninskiy\n",
      "Processing Record 512 | araouane\n",
      "Processing Record 513 | grand gaube\n",
      "Processing Record 514 | tandalti\n",
      "Processing Record 515 | yushu\n",
      "Processing Record 516 | nanakuli\n",
      "Processing Record 517 | riverton\n",
      "Processing Record 518 | palanas\n",
      "Processing Record 519 | nanyamba\n",
      "Processing Record 520 | yuci\n",
      "Processing Record 521 | shenzhen\n",
      "Processing Record 522 | uspenskaya\n",
      "Processing Record 523 | richards bay\n",
      "Processing Record 524 | monticello\n",
      "Processing Record 525 | tarata\n",
      "Processing Record 526 | kropotkin\n",
      "Processing Record 527 | sumbe\n",
      "Processing Record 528 | fort nelson\n",
      "Processing Record 529 | romny\n",
      "Processing Record 530 | ayorou\n",
      "Processing Record 531 | marsh harbour\n",
      "Processing Record 532 | yongchang\n",
      "Processing Record 533 | cheyenne\n",
      "Processing Record 534 | vanderhoof\n",
      "Processing Record 535 | rudnogorsk\n",
      "Processing Record 536 | kachug\n",
      "Processing Record 537 | mweka\n",
      "Processing Record 538 | stephenville\n",
      "Processing Record 539 | urumqi\n",
      "Processing Record 540 | chumikan\n",
      "Processing Record 541 | puerto leguizamo\n",
      "Processing Record 542 | narva-joesuu\n",
      "Processing Record 543 | marcona\n",
      "Error processing city 543 marcona...\n",
      "Processing Record 543 | roald\n",
      "Processing Record 544 | padampur\n",
      "Processing Record 545 | aberdeen\n",
      "Processing Record 546 | hambantota\n",
      "Processing Record 547 | luanda\n",
      "Processing Record 548 | balgazyn\n",
      "Processing Record 549 | caucaia\n",
      "Processing Record 550 | nogales\n",
      "Processing Record 551 | hong gai\n",
      "Processing Record 552 | south valley\n",
      "Processing Record 553 | gorontalo\n",
      "Processing Record 554 | malwan\n",
      "Error processing city 554 malwan...\n",
      "Processing Record 554 | uhlove\n",
      "Processing Record 555 | los llanos de aridane\n"
     ]
    },
    {
     "data": {
      "text/html": [
       "<div>\n",
       "<style scoped>\n",
       "    .dataframe tbody tr th:only-of-type {\n",
       "        vertical-align: middle;\n",
       "    }\n",
       "\n",
       "    .dataframe tbody tr th {\n",
       "        vertical-align: top;\n",
       "    }\n",
       "\n",
       "    .dataframe thead th {\n",
       "        text-align: right;\n",
       "    }\n",
       "</style>\n",
       "<table border=\"1\" class=\"dataframe\">\n",
       "  <thead>\n",
       "    <tr style=\"text-align: right;\">\n",
       "      <th></th>\n",
       "      <th>City</th>\n",
       "      <th>Cloudiness</th>\n",
       "      <th>Country</th>\n",
       "      <th>Date</th>\n",
       "      <th>Humidity</th>\n",
       "      <th>Lat</th>\n",
       "      <th>Lng</th>\n",
       "      <th>Max Temp</th>\n",
       "      <th>Wind Speed</th>\n",
       "    </tr>\n",
       "  </thead>\n",
       "  <tbody>\n",
       "    <tr>\n",
       "      <th>0</th>\n",
       "      <td>victoria</td>\n",
       "      <td>95.0</td>\n",
       "      <td>HK</td>\n",
       "      <td>1.622317e+09</td>\n",
       "      <td>89.0</td>\n",
       "      <td>22.2855</td>\n",
       "      <td>114.1577</td>\n",
       "      <td>85.96</td>\n",
       "      <td>1.01</td>\n",
       "    </tr>\n",
       "    <tr>\n",
       "      <th>1</th>\n",
       "      <td>busselton</td>\n",
       "      <td>94.0</td>\n",
       "      <td>AU</td>\n",
       "      <td>1.622318e+09</td>\n",
       "      <td>93.0</td>\n",
       "      <td>-33.6500</td>\n",
       "      <td>115.3333</td>\n",
       "      <td>54.09</td>\n",
       "      <td>13.91</td>\n",
       "    </tr>\n",
       "    <tr>\n",
       "      <th>2</th>\n",
       "      <td>puerto ayora</td>\n",
       "      <td>59.0</td>\n",
       "      <td>EC</td>\n",
       "      <td>1.622317e+09</td>\n",
       "      <td>84.0</td>\n",
       "      <td>-0.7393</td>\n",
       "      <td>-90.3518</td>\n",
       "      <td>82.36</td>\n",
       "      <td>5.99</td>\n",
       "    </tr>\n",
       "    <tr>\n",
       "      <th>3</th>\n",
       "      <td>mackay</td>\n",
       "      <td>90.0</td>\n",
       "      <td>AU</td>\n",
       "      <td>1.622318e+09</td>\n",
       "      <td>82.0</td>\n",
       "      <td>-21.1500</td>\n",
       "      <td>149.2000</td>\n",
       "      <td>65.68</td>\n",
       "      <td>12.66</td>\n",
       "    </tr>\n",
       "    <tr>\n",
       "      <th>4</th>\n",
       "      <td>atuona</td>\n",
       "      <td>6.0</td>\n",
       "      <td>PF</td>\n",
       "      <td>1.622318e+09</td>\n",
       "      <td>72.0</td>\n",
       "      <td>-9.8000</td>\n",
       "      <td>-139.0333</td>\n",
       "      <td>78.75</td>\n",
       "      <td>9.80</td>\n",
       "    </tr>\n",
       "  </tbody>\n",
       "</table>\n",
       "</div>"
      ],
      "text/plain": [
       "           City  Cloudiness Country          Date  Humidity      Lat  \\\n",
       "0      victoria        95.0      HK  1.622317e+09      89.0  22.2855   \n",
       "1     busselton        94.0      AU  1.622318e+09      93.0 -33.6500   \n",
       "2  puerto ayora        59.0      EC  1.622317e+09      84.0  -0.7393   \n",
       "3        mackay        90.0      AU  1.622318e+09      82.0 -21.1500   \n",
       "4        atuona         6.0      PF  1.622318e+09      72.0  -9.8000   \n",
       "\n",
       "        Lng  Max Temp  Wind Speed  \n",
       "0  114.1577     85.96        1.01  \n",
       "1  115.3333     54.09       13.91  \n",
       "2  -90.3518     82.36        5.99  \n",
       "3  149.2000     65.68       12.66  \n",
       "4 -139.0333     78.75        9.80  "
      ]
     },
     "execution_count": 3,
     "metadata": {},
     "output_type": "execute_result"
    }
   ],
   "source": [
    "print(\"Beginning Data Retrieval\")\n",
    "print(\"-------------------------\")\n",
    "base_url = \"http://api.openweathermap.org/data/2.5/weather\"\n",
    "query_params = {}\n",
    "query_params['appid'] = weather_api_key\n",
    "query_params['units'] = 'imperial'\n",
    "print(weather_api_key)\n",
    "i = 0\n",
    "cols = ['City', 'Lat', 'Lng', 'Max Temp', 'Humidity', 'Cloudiness', 'Wind Speed', 'Country', 'Date']\n",
    "df = pd.DataFrame()\n",
    "for city in cities:\n",
    "    try:\n",
    "        query_params['q'] = city\n",
    "        print(f\"Processing Record {i} | {city}\")\n",
    "        response = requests.get(base_url, params=query_params)\n",
    "        data = response.json()\n",
    "        res_list = []\n",
    "        res_list.append(city)\n",
    "        res_list.append(data['coord']['lat'])\n",
    "        res_list.append(data['coord']['lon'])\n",
    "        res_list.append(data['main']['temp_max'])\n",
    "        res_list.append(data['main']['humidity'])\n",
    "        res_list.append(data['clouds']['all'])\n",
    "        res_list.append(data['wind']['speed'])\n",
    "        res_list.append(data['sys']['country'])\n",
    "        res_list.append(data['dt'])\n",
    "        ser = pd.Series(res_list, index=cols)\n",
    "        df = df.append(ser, ignore_index=True)\n",
    "        i += 1\n",
    "    except Exception as e:\n",
    "        print(f\"Error processing city {i} {city}...\")\n",
    "\n",
    "df.head()"
   ]
  },
  {
   "cell_type": "markdown",
   "metadata": {},
   "source": [
    "### Convert Raw Data to DataFrame\n",
    "* Export the city data into a .csv.\n",
    "* Display the DataFrame"
   ]
  },
  {
   "cell_type": "markdown",
   "metadata": {},
   "source": [
    "df.to_csv('city_weather.csv', index=False)\n",
    "df.head()"
   ]
  },
  {
   "cell_type": "code",
   "execution_count": 5,
   "metadata": {},
   "outputs": [
    {
     "data": {
      "text/html": [
       "<div>\n",
       "<style scoped>\n",
       "    .dataframe tbody tr th:only-of-type {\n",
       "        vertical-align: middle;\n",
       "    }\n",
       "\n",
       "    .dataframe tbody tr th {\n",
       "        vertical-align: top;\n",
       "    }\n",
       "\n",
       "    .dataframe thead th {\n",
       "        text-align: right;\n",
       "    }\n",
       "</style>\n",
       "<table border=\"1\" class=\"dataframe\">\n",
       "  <thead>\n",
       "    <tr style=\"text-align: right;\">\n",
       "      <th></th>\n",
       "      <th>Cloudiness</th>\n",
       "      <th>Date</th>\n",
       "      <th>Humidity</th>\n",
       "      <th>Lat</th>\n",
       "      <th>Lng</th>\n",
       "      <th>Max Temp</th>\n",
       "      <th>Wind Speed</th>\n",
       "    </tr>\n",
       "  </thead>\n",
       "  <tbody>\n",
       "    <tr>\n",
       "      <th>count</th>\n",
       "      <td>556.000000</td>\n",
       "      <td>5.560000e+02</td>\n",
       "      <td>556.000000</td>\n",
       "      <td>556.000000</td>\n",
       "      <td>556.000000</td>\n",
       "      <td>556.000000</td>\n",
       "      <td>556.000000</td>\n",
       "    </tr>\n",
       "    <tr>\n",
       "      <th>mean</th>\n",
       "      <td>55.758993</td>\n",
       "      <td>1.622318e+09</td>\n",
       "      <td>68.437050</td>\n",
       "      <td>19.836416</td>\n",
       "      <td>12.694720</td>\n",
       "      <td>66.134173</td>\n",
       "      <td>8.151817</td>\n",
       "    </tr>\n",
       "    <tr>\n",
       "      <th>std</th>\n",
       "      <td>38.482141</td>\n",
       "      <td>8.637090e+01</td>\n",
       "      <td>22.970674</td>\n",
       "      <td>32.796511</td>\n",
       "      <td>87.701529</td>\n",
       "      <td>16.950046</td>\n",
       "      <td>5.521983</td>\n",
       "    </tr>\n",
       "    <tr>\n",
       "      <th>min</th>\n",
       "      <td>0.000000</td>\n",
       "      <td>1.622317e+09</td>\n",
       "      <td>6.000000</td>\n",
       "      <td>-54.800000</td>\n",
       "      <td>-175.200000</td>\n",
       "      <td>18.610000</td>\n",
       "      <td>0.000000</td>\n",
       "    </tr>\n",
       "    <tr>\n",
       "      <th>25%</th>\n",
       "      <td>16.000000</td>\n",
       "      <td>1.622318e+09</td>\n",
       "      <td>57.000000</td>\n",
       "      <td>-7.890350</td>\n",
       "      <td>-61.698075</td>\n",
       "      <td>53.197500</td>\n",
       "      <td>3.865000</td>\n",
       "    </tr>\n",
       "    <tr>\n",
       "      <th>50%</th>\n",
       "      <td>65.500000</td>\n",
       "      <td>1.622318e+09</td>\n",
       "      <td>75.000000</td>\n",
       "      <td>24.324550</td>\n",
       "      <td>19.451800</td>\n",
       "      <td>66.605000</td>\n",
       "      <td>6.910000</td>\n",
       "    </tr>\n",
       "    <tr>\n",
       "      <th>75%</th>\n",
       "      <td>93.250000</td>\n",
       "      <td>1.622318e+09</td>\n",
       "      <td>86.000000</td>\n",
       "      <td>47.031200</td>\n",
       "      <td>81.429300</td>\n",
       "      <td>80.157500</td>\n",
       "      <td>11.500000</td>\n",
       "    </tr>\n",
       "    <tr>\n",
       "      <th>max</th>\n",
       "      <td>100.000000</td>\n",
       "      <td>1.622318e+09</td>\n",
       "      <td>100.000000</td>\n",
       "      <td>78.218600</td>\n",
       "      <td>178.416700</td>\n",
       "      <td>104.650000</td>\n",
       "      <td>36.890000</td>\n",
       "    </tr>\n",
       "  </tbody>\n",
       "</table>\n",
       "</div>"
      ],
      "text/plain": [
       "       Cloudiness          Date    Humidity         Lat         Lng  \\\n",
       "count  556.000000  5.560000e+02  556.000000  556.000000  556.000000   \n",
       "mean    55.758993  1.622318e+09   68.437050   19.836416   12.694720   \n",
       "std     38.482141  8.637090e+01   22.970674   32.796511   87.701529   \n",
       "min      0.000000  1.622317e+09    6.000000  -54.800000 -175.200000   \n",
       "25%     16.000000  1.622318e+09   57.000000   -7.890350  -61.698075   \n",
       "50%     65.500000  1.622318e+09   75.000000   24.324550   19.451800   \n",
       "75%     93.250000  1.622318e+09   86.000000   47.031200   81.429300   \n",
       "max    100.000000  1.622318e+09  100.000000   78.218600  178.416700   \n",
       "\n",
       "         Max Temp  Wind Speed  \n",
       "count  556.000000  556.000000  \n",
       "mean    66.134173    8.151817  \n",
       "std     16.950046    5.521983  \n",
       "min     18.610000    0.000000  \n",
       "25%     53.197500    3.865000  \n",
       "50%     66.605000    6.910000  \n",
       "75%     80.157500   11.500000  \n",
       "max    104.650000   36.890000  "
      ]
     },
     "execution_count": 5,
     "metadata": {},
     "output_type": "execute_result"
    }
   ],
   "source": [
    "def create_summary(data_frame):\n",
    "    summary_df = pd.DataFrame()\n",
    "    summary_df = summary_df.append(data_frame.count(), ignore_index=True)\n",
    "    summary_df = summary_df.append(data_frame.mean(), ignore_index=True)\n",
    "    summary_df = summary_df.append(data_frame.std(), ignore_index=True)\n",
    "    summary_df = summary_df.append(data_frame.min(), ignore_index=True)\n",
    "    first_qrt = data_frame.quantile(0.25)\n",
    "    second_qrt  = data_frame.quantile(0.5)\n",
    "    third_qrt = data_frame.quantile(0.75)\n",
    "    summary_df = summary_df.append(first_qrt, ignore_index=True)\n",
    "    summary_df = summary_df.append(second_qrt, ignore_index=True)\n",
    "    summary_df = summary_df.append(third_qrt, ignore_index=True)\n",
    "    summary_df = summary_df.append(data_frame.max(), ignore_index=True)\n",
    "    del summary_df['City']\n",
    "    del summary_df['Country']\n",
    "    summary_df.index = ['count', 'mean', 'std', 'min', '25%', '50%', '75%', 'max']\n",
    "    return summary_df\n",
    "\n",
    "summary_data_frame = create_summary(df)\n",
    "summary_data_frame"
   ]
  },
  {
   "cell_type": "markdown",
   "metadata": {},
   "source": [
    "## Inspect the data and remove the cities where the humidity > 100%.\n",
    "----\n",
    "Skip this step if there are no cities that have humidity > 100%. "
   ]
  },
  {
   "cell_type": "code",
   "execution_count": 6,
   "metadata": {},
   "outputs": [
    {
     "data": {
      "text/html": [
       "<div>\n",
       "<style scoped>\n",
       "    .dataframe tbody tr th:only-of-type {\n",
       "        vertical-align: middle;\n",
       "    }\n",
       "\n",
       "    .dataframe tbody tr th {\n",
       "        vertical-align: top;\n",
       "    }\n",
       "\n",
       "    .dataframe thead th {\n",
       "        text-align: right;\n",
       "    }\n",
       "</style>\n",
       "<table border=\"1\" class=\"dataframe\">\n",
       "  <thead>\n",
       "    <tr style=\"text-align: right;\">\n",
       "      <th></th>\n",
       "      <th>Cloudiness</th>\n",
       "      <th>Date</th>\n",
       "      <th>Humidity</th>\n",
       "      <th>Lat</th>\n",
       "      <th>Lng</th>\n",
       "      <th>Max Temp</th>\n",
       "      <th>Wind Speed</th>\n",
       "    </tr>\n",
       "  </thead>\n",
       "  <tbody>\n",
       "    <tr>\n",
       "      <th>count</th>\n",
       "      <td>556.000000</td>\n",
       "      <td>5.560000e+02</td>\n",
       "      <td>556.000000</td>\n",
       "      <td>556.000000</td>\n",
       "      <td>556.000000</td>\n",
       "      <td>556.000000</td>\n",
       "      <td>556.000000</td>\n",
       "    </tr>\n",
       "    <tr>\n",
       "      <th>mean</th>\n",
       "      <td>55.758993</td>\n",
       "      <td>1.622318e+09</td>\n",
       "      <td>68.437050</td>\n",
       "      <td>19.836416</td>\n",
       "      <td>12.694720</td>\n",
       "      <td>66.134173</td>\n",
       "      <td>8.151817</td>\n",
       "    </tr>\n",
       "    <tr>\n",
       "      <th>std</th>\n",
       "      <td>38.482141</td>\n",
       "      <td>8.637090e+01</td>\n",
       "      <td>22.970674</td>\n",
       "      <td>32.796511</td>\n",
       "      <td>87.701529</td>\n",
       "      <td>16.950046</td>\n",
       "      <td>5.521983</td>\n",
       "    </tr>\n",
       "    <tr>\n",
       "      <th>min</th>\n",
       "      <td>0.000000</td>\n",
       "      <td>1.622317e+09</td>\n",
       "      <td>6.000000</td>\n",
       "      <td>-54.800000</td>\n",
       "      <td>-175.200000</td>\n",
       "      <td>18.610000</td>\n",
       "      <td>0.000000</td>\n",
       "    </tr>\n",
       "    <tr>\n",
       "      <th>25%</th>\n",
       "      <td>16.000000</td>\n",
       "      <td>1.622318e+09</td>\n",
       "      <td>57.000000</td>\n",
       "      <td>-7.890350</td>\n",
       "      <td>-61.698075</td>\n",
       "      <td>53.197500</td>\n",
       "      <td>3.865000</td>\n",
       "    </tr>\n",
       "    <tr>\n",
       "      <th>50%</th>\n",
       "      <td>65.500000</td>\n",
       "      <td>1.622318e+09</td>\n",
       "      <td>75.000000</td>\n",
       "      <td>24.324550</td>\n",
       "      <td>19.451800</td>\n",
       "      <td>66.605000</td>\n",
       "      <td>6.910000</td>\n",
       "    </tr>\n",
       "    <tr>\n",
       "      <th>75%</th>\n",
       "      <td>93.250000</td>\n",
       "      <td>1.622318e+09</td>\n",
       "      <td>86.000000</td>\n",
       "      <td>47.031200</td>\n",
       "      <td>81.429300</td>\n",
       "      <td>80.157500</td>\n",
       "      <td>11.500000</td>\n",
       "    </tr>\n",
       "    <tr>\n",
       "      <th>max</th>\n",
       "      <td>100.000000</td>\n",
       "      <td>1.622318e+09</td>\n",
       "      <td>100.000000</td>\n",
       "      <td>78.218600</td>\n",
       "      <td>178.416700</td>\n",
       "      <td>104.650000</td>\n",
       "      <td>36.890000</td>\n",
       "    </tr>\n",
       "  </tbody>\n",
       "</table>\n",
       "</div>"
      ],
      "text/plain": [
       "       Cloudiness          Date    Humidity         Lat         Lng  \\\n",
       "count  556.000000  5.560000e+02  556.000000  556.000000  556.000000   \n",
       "mean    55.758993  1.622318e+09   68.437050   19.836416   12.694720   \n",
       "std     38.482141  8.637090e+01   22.970674   32.796511   87.701529   \n",
       "min      0.000000  1.622317e+09    6.000000  -54.800000 -175.200000   \n",
       "25%     16.000000  1.622318e+09   57.000000   -7.890350  -61.698075   \n",
       "50%     65.500000  1.622318e+09   75.000000   24.324550   19.451800   \n",
       "75%     93.250000  1.622318e+09   86.000000   47.031200   81.429300   \n",
       "max    100.000000  1.622318e+09  100.000000   78.218600  178.416700   \n",
       "\n",
       "         Max Temp  Wind Speed  \n",
       "count  556.000000  556.000000  \n",
       "mean    66.134173    8.151817  \n",
       "std     16.950046    5.521983  \n",
       "min     18.610000    0.000000  \n",
       "25%     53.197500    3.865000  \n",
       "50%     66.605000    6.910000  \n",
       "75%     80.157500   11.500000  \n",
       "max    104.650000   36.890000  "
      ]
     },
     "execution_count": 6,
     "metadata": {},
     "output_type": "execute_result"
    }
   ],
   "source": [
    "df_humidity = df[df['Humidity'] <= 100]\n",
    "summary_data_frame = create_summary(df_humidity)\n",
    "summary_data_frame"
   ]
  },
  {
   "cell_type": "code",
   "execution_count": 10,
   "metadata": {},
   "outputs": [
    {
     "data": {
      "text/plain": [
       "array([], dtype=int64)"
      ]
     },
     "execution_count": 10,
     "metadata": {},
     "output_type": "execute_result"
    }
   ],
   "source": [
    "#  Get the indices of cities that have humidity over 100%.\n",
    "df_over_humidity = df[df['Humidity'] > 100]\n",
    "indices = df_over_humidity.index.values\n",
    "indices"
   ]
  },
  {
   "cell_type": "code",
   "execution_count": 11,
   "metadata": {},
   "outputs": [
    {
     "data": {
      "text/html": [
       "<div>\n",
       "<style scoped>\n",
       "    .dataframe tbody tr th:only-of-type {\n",
       "        vertical-align: middle;\n",
       "    }\n",
       "\n",
       "    .dataframe tbody tr th {\n",
       "        vertical-align: top;\n",
       "    }\n",
       "\n",
       "    .dataframe thead th {\n",
       "        text-align: right;\n",
       "    }\n",
       "</style>\n",
       "<table border=\"1\" class=\"dataframe\">\n",
       "  <thead>\n",
       "    <tr style=\"text-align: right;\">\n",
       "      <th></th>\n",
       "      <th>City</th>\n",
       "      <th>Cloudiness</th>\n",
       "      <th>Country</th>\n",
       "      <th>Date</th>\n",
       "      <th>Humidity</th>\n",
       "      <th>Lat</th>\n",
       "      <th>Lng</th>\n",
       "      <th>Max Temp</th>\n",
       "      <th>Wind Speed</th>\n",
       "    </tr>\n",
       "  </thead>\n",
       "  <tbody>\n",
       "    <tr>\n",
       "      <th>0</th>\n",
       "      <td>victoria</td>\n",
       "      <td>95.0</td>\n",
       "      <td>HK</td>\n",
       "      <td>1.622317e+09</td>\n",
       "      <td>89.0</td>\n",
       "      <td>22.2855</td>\n",
       "      <td>114.1577</td>\n",
       "      <td>85.96</td>\n",
       "      <td>1.01</td>\n",
       "    </tr>\n",
       "    <tr>\n",
       "      <th>1</th>\n",
       "      <td>busselton</td>\n",
       "      <td>94.0</td>\n",
       "      <td>AU</td>\n",
       "      <td>1.622318e+09</td>\n",
       "      <td>93.0</td>\n",
       "      <td>-33.6500</td>\n",
       "      <td>115.3333</td>\n",
       "      <td>54.09</td>\n",
       "      <td>13.91</td>\n",
       "    </tr>\n",
       "    <tr>\n",
       "      <th>2</th>\n",
       "      <td>puerto ayora</td>\n",
       "      <td>59.0</td>\n",
       "      <td>EC</td>\n",
       "      <td>1.622317e+09</td>\n",
       "      <td>84.0</td>\n",
       "      <td>-0.7393</td>\n",
       "      <td>-90.3518</td>\n",
       "      <td>82.36</td>\n",
       "      <td>5.99</td>\n",
       "    </tr>\n",
       "    <tr>\n",
       "      <th>3</th>\n",
       "      <td>mackay</td>\n",
       "      <td>90.0</td>\n",
       "      <td>AU</td>\n",
       "      <td>1.622318e+09</td>\n",
       "      <td>82.0</td>\n",
       "      <td>-21.1500</td>\n",
       "      <td>149.2000</td>\n",
       "      <td>65.68</td>\n",
       "      <td>12.66</td>\n",
       "    </tr>\n",
       "    <tr>\n",
       "      <th>4</th>\n",
       "      <td>atuona</td>\n",
       "      <td>6.0</td>\n",
       "      <td>PF</td>\n",
       "      <td>1.622318e+09</td>\n",
       "      <td>72.0</td>\n",
       "      <td>-9.8000</td>\n",
       "      <td>-139.0333</td>\n",
       "      <td>78.75</td>\n",
       "      <td>9.80</td>\n",
       "    </tr>\n",
       "    <tr>\n",
       "      <th>...</th>\n",
       "      <td>...</td>\n",
       "      <td>...</td>\n",
       "      <td>...</td>\n",
       "      <td>...</td>\n",
       "      <td>...</td>\n",
       "      <td>...</td>\n",
       "      <td>...</td>\n",
       "      <td>...</td>\n",
       "      <td>...</td>\n",
       "    </tr>\n",
       "    <tr>\n",
       "      <th>549</th>\n",
       "      <td>caucaia</td>\n",
       "      <td>20.0</td>\n",
       "      <td>BR</td>\n",
       "      <td>1.622318e+09</td>\n",
       "      <td>74.0</td>\n",
       "      <td>-3.7361</td>\n",
       "      <td>-38.6531</td>\n",
       "      <td>84.15</td>\n",
       "      <td>6.40</td>\n",
       "    </tr>\n",
       "    <tr>\n",
       "      <th>551</th>\n",
       "      <td>hong gai</td>\n",
       "      <td>100.0</td>\n",
       "      <td>VN</td>\n",
       "      <td>1.622318e+09</td>\n",
       "      <td>93.0</td>\n",
       "      <td>20.9560</td>\n",
       "      <td>107.0946</td>\n",
       "      <td>85.91</td>\n",
       "      <td>4.90</td>\n",
       "    </tr>\n",
       "    <tr>\n",
       "      <th>553</th>\n",
       "      <td>gorontalo</td>\n",
       "      <td>94.0</td>\n",
       "      <td>ID</td>\n",
       "      <td>1.622318e+09</td>\n",
       "      <td>95.0</td>\n",
       "      <td>0.5412</td>\n",
       "      <td>123.0595</td>\n",
       "      <td>74.98</td>\n",
       "      <td>2.15</td>\n",
       "    </tr>\n",
       "    <tr>\n",
       "      <th>554</th>\n",
       "      <td>uhlove</td>\n",
       "      <td>100.0</td>\n",
       "      <td>UA</td>\n",
       "      <td>1.622318e+09</td>\n",
       "      <td>88.0</td>\n",
       "      <td>44.8215</td>\n",
       "      <td>33.6045</td>\n",
       "      <td>64.56</td>\n",
       "      <td>5.61</td>\n",
       "    </tr>\n",
       "    <tr>\n",
       "      <th>555</th>\n",
       "      <td>los llanos de aridane</td>\n",
       "      <td>20.0</td>\n",
       "      <td>ES</td>\n",
       "      <td>1.622318e+09</td>\n",
       "      <td>84.0</td>\n",
       "      <td>28.6585</td>\n",
       "      <td>-17.9182</td>\n",
       "      <td>65.95</td>\n",
       "      <td>11.52</td>\n",
       "    </tr>\n",
       "  </tbody>\n",
       "</table>\n",
       "<p>539 rows × 9 columns</p>\n",
       "</div>"
      ],
      "text/plain": [
       "                      City  Cloudiness Country          Date  Humidity  \\\n",
       "0                 victoria        95.0      HK  1.622317e+09      89.0   \n",
       "1                busselton        94.0      AU  1.622318e+09      93.0   \n",
       "2             puerto ayora        59.0      EC  1.622317e+09      84.0   \n",
       "3                   mackay        90.0      AU  1.622318e+09      82.0   \n",
       "4                   atuona         6.0      PF  1.622318e+09      72.0   \n",
       "..                     ...         ...     ...           ...       ...   \n",
       "549                caucaia        20.0      BR  1.622318e+09      74.0   \n",
       "551               hong gai       100.0      VN  1.622318e+09      93.0   \n",
       "553              gorontalo        94.0      ID  1.622318e+09      95.0   \n",
       "554                 uhlove       100.0      UA  1.622318e+09      88.0   \n",
       "555  los llanos de aridane        20.0      ES  1.622318e+09      84.0   \n",
       "\n",
       "         Lat       Lng  Max Temp  Wind Speed  \n",
       "0    22.2855  114.1577     85.96        1.01  \n",
       "1   -33.6500  115.3333     54.09       13.91  \n",
       "2    -0.7393  -90.3518     82.36        5.99  \n",
       "3   -21.1500  149.2000     65.68       12.66  \n",
       "4    -9.8000 -139.0333     78.75        9.80  \n",
       "..       ...       ...       ...         ...  \n",
       "549  -3.7361  -38.6531     84.15        6.40  \n",
       "551  20.9560  107.0946     85.91        4.90  \n",
       "553   0.5412  123.0595     74.98        2.15  \n",
       "554  44.8215   33.6045     64.56        5.61  \n",
       "555  28.6585  -17.9182     65.95       11.52  \n",
       "\n",
       "[539 rows x 9 columns]"
      ]
     },
     "execution_count": 11,
     "metadata": {},
     "output_type": "execute_result"
    }
   ],
   "source": [
    "# Make a new DataFrame equal to the city data to drop all humidity outliers by index.\n",
    "# Passing \"inplace=False\" will make a copy of the city_data DataFrame, which we call \"clean_city_data\".\n",
    "lowerq = df['Humidity'].quantile(0.25)\n",
    "upperq = df['Humidity'].quantile(0.75)\n",
    "iqr = upperq - lowerq\n",
    "lower_bound = lowerq - (1.5*iqr)\n",
    "upper_bound = upperq + (1.5*iqr)\n",
    "clean_city_data = df[(df['Humidity'] <= upper_bound) & (df['Humidity'] >= lower_bound)]\n",
    "clean_city_data"
   ]
  },
  {
   "cell_type": "code",
   "execution_count": null,
   "metadata": {},
   "outputs": [],
   "source": [
    "\n"
   ]
  },
  {
   "cell_type": "markdown",
   "metadata": {},
   "source": [
    "## Plotting the Data\n",
    "* Use proper labeling of the plots using plot titles (including date of analysis) and axes labels.\n",
    "* Save the plotted figures as .pngs."
   ]
  },
  {
   "cell_type": "markdown",
   "metadata": {},
   "source": [
    "## Latitude vs. Temperature Plot"
   ]
  },
  {
   "cell_type": "code",
   "execution_count": 19,
   "metadata": {
    "scrolled": true
   },
   "outputs": [
    {
     "data": {
      "image/png": "[encoded data removed]",
      "text/plain": [
       "<Figure size 432x288 with 1 Axes>"
      ]
     },
     "metadata": {
      "needs_background": "light"
     },
     "output_type": "display_data"
    }
   ],
   "source": [
    "from datetime import date\n",
    "x_values = df['Lat']\n",
    "y_values = df['Max Temp']\n",
    "plt.scatter(x_values,y_values)\n",
    "plt.xlabel('Latitude')\n",
    "plt.ylabel('Max Temperature (F)')\n",
    "date_run = df.iloc[0, 3]\n",
    "date_run = date.fromtimestamp(date_run)\n",
    "plt.title(f'City Latitude vs. Max Temperature ({date_run})')\n",
    "plt.grid()\n",
    "plt.show()"
   ]
  },
  {
   "cell_type": "markdown",
   "metadata": {},
   "source": [
    "## Latitude vs. Humidity Plot"
   ]
  },
  {
   "cell_type": "code",
   "execution_count": 20,
   "metadata": {},
   "outputs": [
    {
     "data": {
      "image/png": "[encoded data removed]",
      "text/plain": [
       "<Figure size 432x288 with 1 Axes>"
      ]
     },
     "metadata": {
      "needs_background": "light"
     },
     "output_type": "display_data"
    }
   ],
   "source": [
    "x_values = df['Lat']\n",
    "y_values = df['Humidity']\n",
    "plt.scatter(x_values,y_values)\n",
    "plt.xlabel('Latitude')\n",
    "plt.ylabel('Humidity (%)')\n",
    "plt.title(f'City Latitude vs. Humidity ({date_run})')\n",
    "plt.grid()\n",
    "plt.show()"
   ]
  },
  {
   "cell_type": "markdown",
   "metadata": {},
   "source": [
    "## Latitude vs. Cloudiness Plot"
   ]
  },
  {
   "cell_type": "code",
   "execution_count": 22,
   "metadata": {},
   "outputs": [
    {
     "data": {
      "image/png": "[encoded data removed]",
      "text/plain": [
       "<Figure size 432x288 with 1 Axes>"
      ]
     },
     "metadata": {
      "needs_background": "light"
     },
     "output_type": "display_data"
    }
   ],
   "source": [
    "x_values = df['Lat']\n",
    "y_values = df['Cloudiness']\n",
    "plt.scatter(x_values,y_values)\n",
    "plt.xlabel('Latitude')\n",
    "plt.ylabel('Cloudiness (%)')\n",
    "plt.title(f'City Latitude vs. Cloudiness ({date_run})')\n",
    "plt.grid()\n",
    "plt.show()"
   ]
  },
  {
   "cell_type": "markdown",
   "metadata": {},
   "source": [
    "## Latitude vs. Wind Speed Plot"
   ]
  },
  {
   "cell_type": "code",
   "execution_count": 23,
   "metadata": {},
   "outputs": [
    {
     "data": {
      "image/png": "[encoded data removed]",
      "text/plain": [
       "<Figure size 432x288 with 1 Axes>"
      ]
     },
     "metadata": {
      "needs_background": "light"
     },
     "output_type": "display_data"
    }
   ],
   "source": [
    "x_values = df['Lat']\n",
    "y_values = df['Wind Speed']\n",
    "plt.scatter(x_values,y_values)\n",
    "plt.xlabel('Latitude')\n",
    "plt.ylabel('Wind Speed (mph)')\n",
    "plt.title(f'City Latitude vs. Wind Speed ({date_run})')\n",
    "plt.grid()\n",
    "plt.show()"
   ]
  },
  {
   "cell_type": "markdown",
   "metadata": {},
   "source": [
    "## Linear Regression"
   ]
  },
  {
   "cell_type": "code",
   "execution_count": 24,
   "metadata": {},
   "outputs": [],
   "source": [
    "northern_df = df[df['Lat'] > 0]\n",
    "southern_df = df[df['Lat'] < 0]"
   ]
  },
  {
   "cell_type": "markdown",
   "metadata": {},
   "source": [
    "####  Northern Hemisphere - Max Temp vs. Latitude Linear Regression"
   ]
  },
  {
   "cell_type": "code",
   "execution_count": 51,
   "metadata": {},
   "outputs": [
    {
     "name": "stdout",
     "output_type": "stream",
     "text": [
      "The r-value is -0.8022438102761531\n"
     ]
    },
    {
     "data": {
      "image/png": "[encoded data removed]",
      "text/plain": [
       "<Figure size 432x288 with 1 Axes>"
      ]
     },
     "metadata": {
      "needs_background": "light"
     },
     "output_type": "display_data"
    }
   ],
   "source": [
    "def plot_regression(lat_s, y_s, y_label, y_units):\n",
    "    m_slope, m_int, m_r, m_p, m_std_err = linregress(lat_s, y_s)\n",
    "    m_fit = m_slope * lat_s + m_int\n",
    "    print(f\"The r-value is {m_r}\")\n",
    "    plt.scatter(lat_s, y_s)\n",
    "    plt.plot(lat_s, m_fit, color=\"r\", label='y={:.2f}x+{:.2f}'.format(m_slope,m_int))\n",
    "    plt.xlabel('Latitude')\n",
    "    plt.ylabel(f'{y_label} ({y_units})')\n",
    "    plt.title(f'City Latitude vs. {y_label} ({date_run})')\n",
    "    plt.grid()\n",
    "    plt.legend(loc='best')\n",
    "    plt.show()\n",
    "    \n",
    "plot_regression(northern_df['Lat'], northern_df['Max Temp'], 'Max Temp', 'F')"
   ]
  },
  {
   "cell_type": "markdown",
   "metadata": {},
   "source": [
    "####  Southern Hemisphere - Max Temp vs. Latitude Linear Regression"
   ]
  },
  {
   "cell_type": "code",
   "execution_count": 52,
   "metadata": {},
   "outputs": [
    {
     "name": "stdout",
     "output_type": "stream",
     "text": [
      "The r-value is 0.7750698906573634\n"
     ]
    },
    {
     "data": {
      "image/png": "[encoded data removed]",
      "text/plain": [
       "<Figure size 432x288 with 1 Axes>"
      ]
     },
     "metadata": {
      "needs_background": "light"
     },
     "output_type": "display_data"
    }
   ],
   "source": [
    "plot_regression(southern_df['Lat'], southern_df['Max Temp'], 'Max Temp', 'F')"
   ]
  },
  {
   "cell_type": "markdown",
   "metadata": {},
   "source": [
    "####  Northern Hemisphere - Humidity (%) vs. Latitude Linear Regression"
   ]
  },
  {
   "cell_type": "code",
   "execution_count": 53,
   "metadata": {},
   "outputs": [
    {
     "name": "stdout",
     "output_type": "stream",
     "text": [
      "The r-value is 0.11504682877851331\n"
     ]
    },
    {
     "data": {
      "image/png": "[encoded data removed]",
      "text/plain": [
       "<Figure size 432x288 with 1 Axes>"
      ]
     },
     "metadata": {
      "needs_background": "light"
     },
     "output_type": "display_data"
    }
   ],
   "source": [
    "plot_regression(northern_df['Lat'], northern_df['Humidity'], 'Humidity', '%')"
   ]
  },
  {
   "cell_type": "markdown",
   "metadata": {},
   "source": [
    "####  Southern Hemisphere - Humidity (%) vs. Latitude Linear Regression"
   ]
  },
  {
   "cell_type": "code",
   "execution_count": 54,
   "metadata": {},
   "outputs": [
    {
     "name": "stdout",
     "output_type": "stream",
     "text": [
      "The r-value is 0.08326195662375019\n"
     ]
    },
    {
     "data": {
      "image/png": "[encoded data removed]",
      "text/plain": [
       "<Figure size 432x288 with 1 Axes>"
      ]
     },
     "metadata": {
      "needs_background": "light"
     },
     "output_type": "display_data"
    }
   ],
   "source": [
    "plot_regression(southern_df['Lat'], southern_df['Humidity'], 'Humidity', '%')"
   ]
  },
  {
   "cell_type": "markdown",
   "metadata": {},
   "source": [
    "####  Northern Hemisphere - Cloudiness (%) vs. Latitude Linear Regression"
   ]
  },
  {
   "cell_type": "code",
   "execution_count": 55,
   "metadata": {},
   "outputs": [
    {
     "name": "stdout",
     "output_type": "stream",
     "text": [
      "The r-value is 0.056544491436219986\n"
     ]
    },
    {
     "data": {
      "image/png": "[encoded data removed]",
      "text/plain": [
       "<Figure size 432x288 with 1 Axes>"
      ]
     },
     "metadata": {
      "needs_background": "light"
     },
     "output_type": "display_data"
    }
   ],
   "source": [
    "plot_regression(northern_df['Lat'], northern_df['Cloudiness'], 'Cloudiness', '%')"
   ]
  },
  {
   "cell_type": "markdown",
   "metadata": {},
   "source": [
    "####  Southern Hemisphere - Cloudiness (%) vs. Latitude Linear Regression"
   ]
  },
  {
   "cell_type": "code",
   "execution_count": 56,
   "metadata": {},
   "outputs": [
    {
     "name": "stdout",
     "output_type": "stream",
     "text": [
      "The r-value is 0.05565910754927063\n"
     ]
    },
    {
     "data": {
      "image/png": "[encoded data removed]",
      "text/plain": [
       "<Figure size 432x288 with 1 Axes>"
      ]
     },
     "metadata": {
      "needs_background": "light"
     },
     "output_type": "display_data"
    }
   ],
   "source": [
    "plot_regression(southern_df['Lat'], southern_df['Cloudiness'], 'Cloudiness', '%')"
   ]
  },
  {
   "cell_type": "markdown",
   "metadata": {},
   "source": [
    "####  Northern Hemisphere - Wind Speed (mph) vs. Latitude Linear Regression"
   ]
  },
  {
   "cell_type": "code",
   "execution_count": 57,
   "metadata": {},
   "outputs": [
    {
     "name": "stdout",
     "output_type": "stream",
     "text": [
      "The r-value is 0.08299254617028777\n"
     ]
    },
    {
     "data": {
      "image/png": "[encoded data removed]",
      "text/plain": [
       "<Figure size 432x288 with 1 Axes>"
      ]
     },
     "metadata": {
      "needs_background": "light"
     },
     "output_type": "display_data"
    }
   ],
   "source": [
    "plot_regression(northern_df['Lat'], northern_df['Wind Speed'], 'Wind Speed', 'mph')"
   ]
  },
  {
   "cell_type": "markdown",
   "metadata": {},
   "source": [
    "####  Southern Hemisphere - Wind Speed (mph) vs. Latitude Linear Regression"
   ]
  },
  {
   "cell_type": "code",
   "execution_count": 58,
   "metadata": {},
   "outputs": [
    {
     "name": "stdout",
     "output_type": "stream",
     "text": [
      "The r-value is -0.2866067500592068\n"
     ]
    },
    {
     "data": {
      "image/png": "[encoded data removed]",
      "text/plain": [
       "<Figure size 432x288 with 1 Axes>"
      ]
     },
     "metadata": {
      "needs_background": "light"
     },
     "output_type": "display_data"
    }
   ],
   "source": [
    "plot_regression(southern_df['Lat'], southern_df['Wind Speed'], 'Wind Speed', 'mph')"
   ]
  },
  {
   "cell_type": "code",
   "execution_count": null,
   "metadata": {},
   "outputs": [],
   "source": []
  }
 ],
 "metadata": {
  "anaconda-cloud": {},
  "kernel_info": {
   "name": "python3"
  },
  "kernelspec": {
   "display_name": "Python 3",
   "language": "python",
   "name": "python3"
  },
  "language_info": {
   "codemirror_mode": {
    "name": "ipython",
    "version": 3
   },
   "file_extension": ".py",
   "mimetype": "text/x-python",
   "name": "python",
   "nbconvert_exporter": "python",
   "pygments_lexer": "ipython3",
   "version": "3.7.6"
  },
  "latex_envs": {
   "LaTeX_envs_menu_present": true,
   "autoclose": false,
   "autocomplete": true,
   "bibliofile": "biblio.bib",
   "cite_by": "apalike",
   "current_citInitial": 1,
   "eqLabelWithNumbers": true,
   "eqNumInitial": 1,
   "hotkeys": {
    "equation": "Ctrl-E",
    "itemize": "Ctrl-I"
   },
   "labels_anchors": false,
   "latex_user_defs": false,
   "report_style_numbering": false,
   "user_envs_cfg": false
  },
  "nteract": {
   "version": "0.12.3"
  }
 },
 "nbformat": 4,
 "nbformat_minor": 2
}
